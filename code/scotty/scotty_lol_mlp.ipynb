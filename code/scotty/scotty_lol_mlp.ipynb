{
 "cells": [
  {
   "cell_type": "code",
   "execution_count": 1,
   "id": "2233d74e-0ec7-4443-90e0-c685fcd1ec5e",
   "metadata": {},
   "outputs": [
    {
     "name": "stderr",
     "output_type": "stream",
     "text": [
      "\n",
      "A module that was compiled using NumPy 1.x cannot be run in\n",
      "NumPy 2.1.3 as it may crash. To support both 1.x and 2.x\n",
      "versions of NumPy, modules must be compiled with NumPy 2.0.\n",
      "Some module may need to rebuild instead e.g. with 'pybind11>=2.12'.\n",
      "\n",
      "If you are a user of the module, the easiest solution will be to\n",
      "downgrade to 'numpy<2' or try to upgrade the affected module.\n",
      "We expect that some modules will need time to support NumPy 2.\n",
      "\n",
      "Traceback (most recent call last):  File \"c:\\Users\\Rpabo\\.conda\\envs\\rait_env\\lib\\runpy.py\", line 196, in _run_module_as_main\n",
      "    return _run_code(code, main_globals, None,\n",
      "  File \"c:\\Users\\Rpabo\\.conda\\envs\\rait_env\\lib\\runpy.py\", line 86, in _run_code\n",
      "    exec(code, run_globals)\n",
      "  File \"c:\\Users\\Rpabo\\.conda\\envs\\rait_env\\lib\\site-packages\\ipykernel_launcher.py\", line 17, in <module>\n",
      "    app.launch_new_instance()\n",
      "  File \"c:\\Users\\Rpabo\\.conda\\envs\\rait_env\\lib\\site-packages\\traitlets\\config\\application.py\", line 982, in launch_instance\n",
      "    app.start()\n",
      "  File \"c:\\Users\\Rpabo\\.conda\\envs\\rait_env\\lib\\site-packages\\ipykernel\\kernelapp.py\", line 712, in start\n",
      "    self.io_loop.start()\n",
      "  File \"c:\\Users\\Rpabo\\.conda\\envs\\rait_env\\lib\\site-packages\\tornado\\platform\\asyncio.py\", line 215, in start\n",
      "    self.asyncio_loop.run_forever()\n",
      "  File \"c:\\Users\\Rpabo\\.conda\\envs\\rait_env\\lib\\asyncio\\base_events.py\", line 603, in run_forever\n",
      "    self._run_once()\n",
      "  File \"c:\\Users\\Rpabo\\.conda\\envs\\rait_env\\lib\\asyncio\\base_events.py\", line 1899, in _run_once\n",
      "    handle._run()\n",
      "  File \"c:\\Users\\Rpabo\\.conda\\envs\\rait_env\\lib\\asyncio\\events.py\", line 80, in _run\n",
      "    self._context.run(self._callback, *self._args)\n",
      "  File \"c:\\Users\\Rpabo\\.conda\\envs\\rait_env\\lib\\site-packages\\ipykernel\\kernelbase.py\", line 510, in dispatch_queue\n",
      "    await self.process_one()\n",
      "  File \"c:\\Users\\Rpabo\\.conda\\envs\\rait_env\\lib\\site-packages\\ipykernel\\kernelbase.py\", line 499, in process_one\n",
      "    await dispatch(*args)\n",
      "  File \"c:\\Users\\Rpabo\\.conda\\envs\\rait_env\\lib\\site-packages\\ipykernel\\kernelbase.py\", line 406, in dispatch_shell\n",
      "    await result\n",
      "  File \"c:\\Users\\Rpabo\\.conda\\envs\\rait_env\\lib\\site-packages\\ipykernel\\kernelbase.py\", line 730, in execute_request\n",
      "    reply_content = await reply_content\n",
      "  File \"c:\\Users\\Rpabo\\.conda\\envs\\rait_env\\lib\\site-packages\\ipykernel\\ipkernel.py\", line 383, in do_execute\n",
      "    res = shell.run_cell(\n",
      "  File \"c:\\Users\\Rpabo\\.conda\\envs\\rait_env\\lib\\site-packages\\ipykernel\\zmqshell.py\", line 528, in run_cell\n",
      "    return super().run_cell(*args, **kwargs)\n",
      "  File \"c:\\Users\\Rpabo\\.conda\\envs\\rait_env\\lib\\site-packages\\IPython\\core\\interactiveshell.py\", line 2881, in run_cell\n",
      "    result = self._run_cell(\n",
      "  File \"c:\\Users\\Rpabo\\.conda\\envs\\rait_env\\lib\\site-packages\\IPython\\core\\interactiveshell.py\", line 2936, in _run_cell\n",
      "    return runner(coro)\n",
      "  File \"c:\\Users\\Rpabo\\.conda\\envs\\rait_env\\lib\\site-packages\\IPython\\core\\async_helpers.py\", line 129, in _pseudo_sync_runner\n",
      "    coro.send(None)\n",
      "  File \"c:\\Users\\Rpabo\\.conda\\envs\\rait_env\\lib\\site-packages\\IPython\\core\\interactiveshell.py\", line 3135, in run_cell_async\n",
      "    has_raised = await self.run_ast_nodes(code_ast.body, cell_name,\n",
      "  File \"c:\\Users\\Rpabo\\.conda\\envs\\rait_env\\lib\\site-packages\\IPython\\core\\interactiveshell.py\", line 3338, in run_ast_nodes\n",
      "    if await self.run_code(code, result, async_=asy):\n",
      "  File \"c:\\Users\\Rpabo\\.conda\\envs\\rait_env\\lib\\site-packages\\IPython\\core\\interactiveshell.py\", line 3398, in run_code\n",
      "    exec(code_obj, self.user_global_ns, self.user_ns)\n",
      "  File \"C:\\Users\\Rpabo\\AppData\\Local\\Temp\\ipykernel_16352\\3488341484.py\", line 3, in <cell line: 3>\n",
      "    import matplotlib as plt\n",
      "  File \"c:\\Users\\Rpabo\\.conda\\envs\\rait_env\\lib\\site-packages\\matplotlib\\__init__.py\", line 148, in <module>\n",
      "    from . import _api, _version, cbook, _docstring, rcsetup\n",
      "  File \"c:\\Users\\Rpabo\\.conda\\envs\\rait_env\\lib\\site-packages\\matplotlib\\rcsetup.py\", line 27, in <module>\n",
      "    from matplotlib.colors import Colormap, is_color_like\n",
      "  File \"c:\\Users\\Rpabo\\.conda\\envs\\rait_env\\lib\\site-packages\\matplotlib\\colors.py\", line 56, in <module>\n",
      "    from matplotlib import _api, _cm, cbook, scale\n",
      "  File \"c:\\Users\\Rpabo\\.conda\\envs\\rait_env\\lib\\site-packages\\matplotlib\\scale.py\", line 22, in <module>\n",
      "    from matplotlib.ticker import (\n",
      "  File \"c:\\Users\\Rpabo\\.conda\\envs\\rait_env\\lib\\site-packages\\matplotlib\\ticker.py\", line 138, in <module>\n",
      "    from matplotlib import transforms as mtransforms\n",
      "  File \"c:\\Users\\Rpabo\\.conda\\envs\\rait_env\\lib\\site-packages\\matplotlib\\transforms.py\", line 49, in <module>\n",
      "    from matplotlib._path import (\n"
     ]
    },
    {
     "ename": "AttributeError",
     "evalue": "_ARRAY_API not found",
     "output_type": "error",
     "traceback": [
      "\u001b[1;31m---------------------------------------------------------------------------\u001b[0m",
      "\u001b[1;31mAttributeError\u001b[0m                            Traceback (most recent call last)",
      "\u001b[1;31mAttributeError\u001b[0m: _ARRAY_API not found"
     ]
    },
    {
     "ename": "ImportError",
     "evalue": "numpy.core.multiarray failed to import",
     "output_type": "error",
     "traceback": [
      "\u001b[1;31m---------------------------------------------------------------------------\u001b[0m",
      "\u001b[1;31mImportError\u001b[0m                               Traceback (most recent call last)",
      "Input \u001b[1;32mIn [1]\u001b[0m, in \u001b[0;36m<cell line: 3>\u001b[1;34m()\u001b[0m\n\u001b[0;32m      1\u001b[0m \u001b[38;5;28;01mimport\u001b[39;00m \u001b[38;5;21;01mtensorflow\u001b[39;00m \u001b[38;5;28;01mas\u001b[39;00m \u001b[38;5;21;01mtf\u001b[39;00m\n\u001b[0;32m      2\u001b[0m \u001b[38;5;28;01mimport\u001b[39;00m \u001b[38;5;21;01mpandas\u001b[39;00m \u001b[38;5;28;01mas\u001b[39;00m \u001b[38;5;21;01mpd\u001b[39;00m\n\u001b[1;32m----> 3\u001b[0m \u001b[38;5;28;01mimport\u001b[39;00m \u001b[38;5;21;01mmatplotlib\u001b[39;00m \u001b[38;5;28;01mas\u001b[39;00m \u001b[38;5;21;01mplt\u001b[39;00m\n\u001b[0;32m      4\u001b[0m \u001b[38;5;28;01mfrom\u001b[39;00m \u001b[38;5;21;01mpathlib\u001b[39;00m \u001b[38;5;28;01mimport\u001b[39;00m Path\n",
      "File \u001b[1;32mc:\\Users\\Rpabo\\.conda\\envs\\rait_env\\lib\\site-packages\\matplotlib\\__init__.py:148\u001b[0m, in \u001b[0;36m<module>\u001b[1;34m\u001b[0m\n\u001b[0;32m    144\u001b[0m \u001b[38;5;28;01mfrom\u001b[39;00m \u001b[38;5;21;01mpackaging\u001b[39;00m\u001b[38;5;21;01m.\u001b[39;00m\u001b[38;5;21;01mversion\u001b[39;00m \u001b[38;5;28;01mimport\u001b[39;00m parse \u001b[38;5;28;01mas\u001b[39;00m parse_version\n\u001b[0;32m    146\u001b[0m \u001b[38;5;66;03m# cbook must import matplotlib only within function\u001b[39;00m\n\u001b[0;32m    147\u001b[0m \u001b[38;5;66;03m# definitions, so it is safe to import from it here.\u001b[39;00m\n\u001b[1;32m--> 148\u001b[0m \u001b[38;5;28;01mfrom\u001b[39;00m \u001b[38;5;21;01m.\u001b[39;00m \u001b[38;5;28;01mimport\u001b[39;00m _api, _version, cbook, _docstring, rcsetup\n\u001b[0;32m    149\u001b[0m \u001b[38;5;28;01mfrom\u001b[39;00m \u001b[38;5;21;01mmatplotlib\u001b[39;00m\u001b[38;5;21;01m.\u001b[39;00m\u001b[38;5;21;01mcbook\u001b[39;00m \u001b[38;5;28;01mimport\u001b[39;00m sanitize_sequence\n\u001b[0;32m    150\u001b[0m \u001b[38;5;28;01mfrom\u001b[39;00m \u001b[38;5;21;01mmatplotlib\u001b[39;00m\u001b[38;5;21;01m.\u001b[39;00m\u001b[38;5;21;01m_api\u001b[39;00m \u001b[38;5;28;01mimport\u001b[39;00m MatplotlibDeprecationWarning\n",
      "File \u001b[1;32mc:\\Users\\Rpabo\\.conda\\envs\\rait_env\\lib\\site-packages\\matplotlib\\rcsetup.py:27\u001b[0m, in \u001b[0;36m<module>\u001b[1;34m\u001b[0m\n\u001b[0;32m     25\u001b[0m \u001b[38;5;28;01mfrom\u001b[39;00m \u001b[38;5;21;01mmatplotlib\u001b[39;00m \u001b[38;5;28;01mimport\u001b[39;00m _api, cbook\n\u001b[0;32m     26\u001b[0m \u001b[38;5;28;01mfrom\u001b[39;00m \u001b[38;5;21;01mmatplotlib\u001b[39;00m\u001b[38;5;21;01m.\u001b[39;00m\u001b[38;5;21;01mcbook\u001b[39;00m \u001b[38;5;28;01mimport\u001b[39;00m ls_mapper\n\u001b[1;32m---> 27\u001b[0m \u001b[38;5;28;01mfrom\u001b[39;00m \u001b[38;5;21;01mmatplotlib\u001b[39;00m\u001b[38;5;21;01m.\u001b[39;00m\u001b[38;5;21;01mcolors\u001b[39;00m \u001b[38;5;28;01mimport\u001b[39;00m Colormap, is_color_like\n\u001b[0;32m     28\u001b[0m \u001b[38;5;28;01mfrom\u001b[39;00m \u001b[38;5;21;01mmatplotlib\u001b[39;00m\u001b[38;5;21;01m.\u001b[39;00m\u001b[38;5;21;01m_fontconfig_pattern\u001b[39;00m \u001b[38;5;28;01mimport\u001b[39;00m parse_fontconfig_pattern\n\u001b[0;32m     29\u001b[0m \u001b[38;5;28;01mfrom\u001b[39;00m \u001b[38;5;21;01mmatplotlib\u001b[39;00m\u001b[38;5;21;01m.\u001b[39;00m\u001b[38;5;21;01m_enums\u001b[39;00m \u001b[38;5;28;01mimport\u001b[39;00m JoinStyle, CapStyle\n",
      "File \u001b[1;32mc:\\Users\\Rpabo\\.conda\\envs\\rait_env\\lib\\site-packages\\matplotlib\\colors.py:56\u001b[0m, in \u001b[0;36m<module>\u001b[1;34m\u001b[0m\n\u001b[0;32m     54\u001b[0m \u001b[38;5;28;01mimport\u001b[39;00m \u001b[38;5;21;01mmatplotlib\u001b[39;00m \u001b[38;5;28;01mas\u001b[39;00m \u001b[38;5;21;01mmpl\u001b[39;00m\n\u001b[0;32m     55\u001b[0m \u001b[38;5;28;01mimport\u001b[39;00m \u001b[38;5;21;01mnumpy\u001b[39;00m \u001b[38;5;28;01mas\u001b[39;00m \u001b[38;5;21;01mnp\u001b[39;00m\n\u001b[1;32m---> 56\u001b[0m \u001b[38;5;28;01mfrom\u001b[39;00m \u001b[38;5;21;01mmatplotlib\u001b[39;00m \u001b[38;5;28;01mimport\u001b[39;00m _api, _cm, cbook, scale\n\u001b[0;32m     57\u001b[0m \u001b[38;5;28;01mfrom\u001b[39;00m \u001b[38;5;21;01m.\u001b[39;00m\u001b[38;5;21;01m_color_data\u001b[39;00m \u001b[38;5;28;01mimport\u001b[39;00m BASE_COLORS, TABLEAU_COLORS, CSS4_COLORS, XKCD_COLORS\n\u001b[0;32m     60\u001b[0m \u001b[38;5;28;01mclass\u001b[39;00m \u001b[38;5;21;01m_ColorMapping\u001b[39;00m(\u001b[38;5;28mdict\u001b[39m):\n",
      "File \u001b[1;32mc:\\Users\\Rpabo\\.conda\\envs\\rait_env\\lib\\site-packages\\matplotlib\\scale.py:22\u001b[0m, in \u001b[0;36m<module>\u001b[1;34m\u001b[0m\n\u001b[0;32m     20\u001b[0m \u001b[38;5;28;01mimport\u001b[39;00m \u001b[38;5;21;01mmatplotlib\u001b[39;00m \u001b[38;5;28;01mas\u001b[39;00m \u001b[38;5;21;01mmpl\u001b[39;00m\n\u001b[0;32m     21\u001b[0m \u001b[38;5;28;01mfrom\u001b[39;00m \u001b[38;5;21;01mmatplotlib\u001b[39;00m \u001b[38;5;28;01mimport\u001b[39;00m _api, _docstring\n\u001b[1;32m---> 22\u001b[0m \u001b[38;5;28;01mfrom\u001b[39;00m \u001b[38;5;21;01mmatplotlib\u001b[39;00m\u001b[38;5;21;01m.\u001b[39;00m\u001b[38;5;21;01mticker\u001b[39;00m \u001b[38;5;28;01mimport\u001b[39;00m (\n\u001b[0;32m     23\u001b[0m     NullFormatter, ScalarFormatter, LogFormatterSciNotation, LogitFormatter,\n\u001b[0;32m     24\u001b[0m     NullLocator, LogLocator, AutoLocator, AutoMinorLocator,\n\u001b[0;32m     25\u001b[0m     SymmetricalLogLocator, AsinhLocator, LogitLocator)\n\u001b[0;32m     26\u001b[0m \u001b[38;5;28;01mfrom\u001b[39;00m \u001b[38;5;21;01mmatplotlib\u001b[39;00m\u001b[38;5;21;01m.\u001b[39;00m\u001b[38;5;21;01mtransforms\u001b[39;00m \u001b[38;5;28;01mimport\u001b[39;00m Transform, IdentityTransform\n\u001b[0;32m     29\u001b[0m \u001b[38;5;28;01mclass\u001b[39;00m \u001b[38;5;21;01mScaleBase\u001b[39;00m:\n",
      "File \u001b[1;32mc:\\Users\\Rpabo\\.conda\\envs\\rait_env\\lib\\site-packages\\matplotlib\\ticker.py:138\u001b[0m, in \u001b[0;36m<module>\u001b[1;34m\u001b[0m\n\u001b[0;32m    136\u001b[0m \u001b[38;5;28;01mimport\u001b[39;00m \u001b[38;5;21;01mmatplotlib\u001b[39;00m \u001b[38;5;28;01mas\u001b[39;00m \u001b[38;5;21;01mmpl\u001b[39;00m\n\u001b[0;32m    137\u001b[0m \u001b[38;5;28;01mfrom\u001b[39;00m \u001b[38;5;21;01mmatplotlib\u001b[39;00m \u001b[38;5;28;01mimport\u001b[39;00m _api, cbook\n\u001b[1;32m--> 138\u001b[0m \u001b[38;5;28;01mfrom\u001b[39;00m \u001b[38;5;21;01mmatplotlib\u001b[39;00m \u001b[38;5;28;01mimport\u001b[39;00m transforms \u001b[38;5;28;01mas\u001b[39;00m mtransforms\n\u001b[0;32m    140\u001b[0m _log \u001b[38;5;241m=\u001b[39m logging\u001b[38;5;241m.\u001b[39mgetLogger(\u001b[38;5;18m__name__\u001b[39m)\n\u001b[0;32m    142\u001b[0m __all__ \u001b[38;5;241m=\u001b[39m (\u001b[38;5;124m'\u001b[39m\u001b[38;5;124mTickHelper\u001b[39m\u001b[38;5;124m'\u001b[39m, \u001b[38;5;124m'\u001b[39m\u001b[38;5;124mFormatter\u001b[39m\u001b[38;5;124m'\u001b[39m, \u001b[38;5;124m'\u001b[39m\u001b[38;5;124mFixedFormatter\u001b[39m\u001b[38;5;124m'\u001b[39m,\n\u001b[0;32m    143\u001b[0m            \u001b[38;5;124m'\u001b[39m\u001b[38;5;124mNullFormatter\u001b[39m\u001b[38;5;124m'\u001b[39m, \u001b[38;5;124m'\u001b[39m\u001b[38;5;124mFuncFormatter\u001b[39m\u001b[38;5;124m'\u001b[39m, \u001b[38;5;124m'\u001b[39m\u001b[38;5;124mFormatStrFormatter\u001b[39m\u001b[38;5;124m'\u001b[39m,\n\u001b[0;32m    144\u001b[0m            \u001b[38;5;124m'\u001b[39m\u001b[38;5;124mStrMethodFormatter\u001b[39m\u001b[38;5;124m'\u001b[39m, \u001b[38;5;124m'\u001b[39m\u001b[38;5;124mScalarFormatter\u001b[39m\u001b[38;5;124m'\u001b[39m, \u001b[38;5;124m'\u001b[39m\u001b[38;5;124mLogFormatter\u001b[39m\u001b[38;5;124m'\u001b[39m,\n\u001b[1;32m   (...)\u001b[0m\n\u001b[0;32m    150\u001b[0m            \u001b[38;5;124m'\u001b[39m\u001b[38;5;124mMultipleLocator\u001b[39m\u001b[38;5;124m'\u001b[39m, \u001b[38;5;124m'\u001b[39m\u001b[38;5;124mMaxNLocator\u001b[39m\u001b[38;5;124m'\u001b[39m, \u001b[38;5;124m'\u001b[39m\u001b[38;5;124mAutoMinorLocator\u001b[39m\u001b[38;5;124m'\u001b[39m,\n\u001b[0;32m    151\u001b[0m            \u001b[38;5;124m'\u001b[39m\u001b[38;5;124mSymmetricalLogLocator\u001b[39m\u001b[38;5;124m'\u001b[39m, \u001b[38;5;124m'\u001b[39m\u001b[38;5;124mAsinhLocator\u001b[39m\u001b[38;5;124m'\u001b[39m, \u001b[38;5;124m'\u001b[39m\u001b[38;5;124mLogitLocator\u001b[39m\u001b[38;5;124m'\u001b[39m)\n",
      "File \u001b[1;32mc:\\Users\\Rpabo\\.conda\\envs\\rait_env\\lib\\site-packages\\matplotlib\\transforms.py:49\u001b[0m, in \u001b[0;36m<module>\u001b[1;34m\u001b[0m\n\u001b[0;32m     46\u001b[0m \u001b[38;5;28;01mfrom\u001b[39;00m \u001b[38;5;21;01mnumpy\u001b[39;00m\u001b[38;5;21;01m.\u001b[39;00m\u001b[38;5;21;01mlinalg\u001b[39;00m \u001b[38;5;28;01mimport\u001b[39;00m inv\n\u001b[0;32m     48\u001b[0m \u001b[38;5;28;01mfrom\u001b[39;00m \u001b[38;5;21;01mmatplotlib\u001b[39;00m \u001b[38;5;28;01mimport\u001b[39;00m _api\n\u001b[1;32m---> 49\u001b[0m \u001b[38;5;28;01mfrom\u001b[39;00m \u001b[38;5;21;01mmatplotlib\u001b[39;00m\u001b[38;5;21;01m.\u001b[39;00m\u001b[38;5;21;01m_path\u001b[39;00m \u001b[38;5;28;01mimport\u001b[39;00m (\n\u001b[0;32m     50\u001b[0m     affine_transform, count_bboxes_overlapping_bbox, update_path_extents)\n\u001b[0;32m     51\u001b[0m \u001b[38;5;28;01mfrom\u001b[39;00m \u001b[38;5;21;01m.\u001b[39;00m\u001b[38;5;21;01mpath\u001b[39;00m \u001b[38;5;28;01mimport\u001b[39;00m Path\n\u001b[0;32m     53\u001b[0m DEBUG \u001b[38;5;241m=\u001b[39m \u001b[38;5;28;01mFalse\u001b[39;00m\n",
      "\u001b[1;31mImportError\u001b[0m: numpy.core.multiarray failed to import"
     ]
    }
   ],
   "source": [
    "import tensorflow as tf\n",
    "import pandas as pd\n",
    "import matplotlib as plt\n",
    "from pathlib import Path"
   ]
  },
  {
   "cell_type": "code",
   "execution_count": 2,
   "id": "d0917100-8194-4d69-8a46-51f913ce0480",
   "metadata": {},
   "outputs": [],
   "source": [
    "# Tuning Values\n",
    "\n",
    "HPARAMS_DEFAULTS = 0\n",
    "HPARAMS_PAPER = 1\n",
    "HPARAMS_CUSTOM = 2\n",
    "training_type = HPARAMS_CUSTOM\n",
    "\n",
    "\n",
    "OP_RMSPROP = 0\n",
    "OP_SGD = 1\n",
    "op_type = OP_RMSPROP\n",
    "\n",
    "if (training_type == HPARAMS_DEFAULTS):\n",
    "    num_hidden_layers = 1\n",
    "    num_hidden_layer_neurons = 32   # X\n",
    "    dropout_rate = 0.4              # X\n",
    "    batch_size = 32                 # X \n",
    "    optimizer_learning_rate = 0.01  # X  \n",
    "    gradient_decay_rho = 0.9\n",
    "    learning_rate_decay = 0.2       # X\n",
    "    hidden_layer_activation_function = \"relu\"\n",
    "    #-----\n",
    "    op_type = OP_RMSPROP\n",
    "    training_epochs = 30\n",
    "elif (training_type == HPARAMS_PAPER):\n",
    "    num_hidden_layers = 1\n",
    "    num_hidden_layer_neurons = 256  # X\n",
    "    dropout_rate = 0.4              # X\n",
    "    batch_size = 2275               # X \n",
    "    optimizer_learning_rate = 3e-4  # X // 3e-4, or 3*(10^-4) = 0.0003\n",
    "    gradient_decay_rho = 0.9\n",
    "    learning_rate_decay = 0.2       # X\n",
    "    hidden_layer_activation_function = \"tanh\"\n",
    "    #-----\n",
    "    op_type = OP_RMSPROP\n",
    "    training_epochs = 30\n",
    "elif (training_type == HPARAMS_CUSTOM):\n",
    "    num_hidden_layers = 1\n",
    "    num_hidden_layer_neurons = 135     # X\n",
    "    dropout_rate = 0.2596709650832801  # X\n",
    "    batch_size = 2275                  # X \n",
    "    optimizer_learning_rate = 0.0029044390072926946   # X // 3e-4, or 3*(10^-4) = 0.0003\n",
    "    gradient_decay_rho = 0.7437864402038941\n",
    "    learning_rate_decay = 0.39953909944182836         # X\n",
    "    hidden_layer_activation_function = \"tanh\"\n",
    "    #-----\n",
    "    op_type = OP_RMSPROP\n",
    "    training_epochs = 30\n",
    "\n",
    "'''\n",
    "Paper Results: \n",
    "Epoch 30/30\n",
    "3/3 ━━━━━━━━━━━━━━━━━━━━ 0s 16ms/step - accuracy: 0.7001 - loss: 0.5711 - val_accuracy: 0.9895 - val_loss: 0.1341\n",
    "\n",
    "Custom Results:\n",
    "Epoch 30/30\n",
    "3/3 ━━━━━━━━━━━━━━━━━━━━ 0s 27ms/step - accuracy: 0.8090 - loss: 0.4114 - val_accuracy: 0.9987 - val_loss: 0.0293\n",
    "\n",
    "\n",
    "Trial 05 summary\n",
    "Hyperparameters:\n",
    "n_hidden: 1\n",
    "n_neurons: 135\n",
    "learning_rate: 0.0029044390072926946\n",
    "dropout_rate: 0.2596709650832801\n",
    "optimizer: rmsprop\n",
    "rho: 0.7437864402038941\n",
    "learning_rate_decay: 0.39953909944182836\n",
    "decay_steps: 9028\n",
    "Score: 1.0\n",
    "'''\n",
    "\n",
    "output_layer_activation_function = \"sigmoid\"\n",
    "tf.keras.utils.set_random_seed(42)\n",
    "\n",
    "\n",
    "use_gpu = True\n",
    "if not use_gpu:\n",
    "    import os\n",
    "    #os.environ[\"CUDA_DEVICE_ORDER\"]=\"PCI_BUS_ID\" #If the line below doesn't work, uncomment this line (make sure to comment the line below); it should help.\n",
    "    os.environ['CUDA_VISIBLE_DEVICES'] = '-1'"
   ]
  },
  {
   "cell_type": "code",
   "execution_count": 3,
   "id": "9fdd24d4-a848-41a6-844d-03554bbef12c",
   "metadata": {},
   "outputs": [],
   "source": [
    "train_path = Path(\"../../feature_data/train/featureInput_noChampionRole.csv\")\n",
    "test_path = Path(\"../../feature_data/test/featureInput_noChampionRole.csv\")\n",
    "\n",
    "#names = [\"Match Result\", \"Blue Top Player\", \"Blue Jungle Player\", \"Blue Middle Player\", \"Blue ADC Player\", \"Blue Support Player\", \"Red Top Player\", \"Red Jungle Player\", \"Red Middle Player\", \"Red ADC Player\", \"Red Support Player\", \"Blue Top Champion\", \"Blue Jungle Champion\", \"Blue Middle Champion\", \"Blue ADC Champion\", \"Blue Support Champion\", \"Red Top Champion\", \"Red Jungle Champion\", \"Red Middle Champion\", \"Red ADC Champion\", \"Red Support Champion\", \"Blue Player Cooperation\", \"Red Player Cooperation\", \"Blue vs Red Player\", \"Blue Champion Cooperation\", \"Red Champion Cooperation\", \"Blue vs Red Champion\", \"Blue Team Win Rate When Blue\", \"Red Team Win Rate When Red\"]\n",
    "names = [\"bResult\", \"btPlayerRole\", \"bjPlayerRole\", \"bmPlayerRole\", \"baPlayerRole\", \"bsPlayerRole\", \"rtPlayerRole\", \"rjPlayerRole\", \"rmPlayerRole\", \"raPlayerRole\", \"rsPlayerRole\", \"btPlayerChampion\", \"bjPlayerChampion\", \"bmPlayerChampion\", \"baPlayerChampion\", \"bsPlayerChampion\", \"rtPlayerChampion\", \"rjPlayerChampion\", \"rmPlayerChampion\", \"raPlayerChampion\", \"rsPlayerChampion\", \"bCoopPlayer\", \"rCoopPlayer\", \"vsPlayer\", \"bCoopChampion\", \"rCoopChampion\", \"vsChampion\", \"bTeamColor\", \"rTeamColor\"]\n",
    "\n",
    "# Load our pre-processed training and test sets. \n",
    "# The skiprows value just removes the first row of the CSV which are labels instead of data.\n",
    "train_data = (pd.read_csv(train_path, names=names, skiprows=1))\n",
    "test_data  = (pd.read_csv( test_path, names=names, skiprows=1))"
   ]
  },
  {
   "cell_type": "code",
   "execution_count": 4,
   "id": "71453374-69c4-47c7-b746-1e338a0fb478",
   "metadata": {},
   "outputs": [
    {
     "data": {
      "text/html": [
       "<div>\n",
       "<style scoped>\n",
       "    .dataframe tbody tr th:only-of-type {\n",
       "        vertical-align: middle;\n",
       "    }\n",
       "\n",
       "    .dataframe tbody tr th {\n",
       "        vertical-align: top;\n",
       "    }\n",
       "\n",
       "    .dataframe thead th {\n",
       "        text-align: right;\n",
       "    }\n",
       "</style>\n",
       "<table border=\"1\" class=\"dataframe\">\n",
       "  <thead>\n",
       "    <tr style=\"text-align: right;\">\n",
       "      <th></th>\n",
       "      <th>bResult</th>\n",
       "      <th>btPlayerRole</th>\n",
       "      <th>bjPlayerRole</th>\n",
       "      <th>bmPlayerRole</th>\n",
       "      <th>baPlayerRole</th>\n",
       "      <th>bsPlayerRole</th>\n",
       "      <th>rtPlayerRole</th>\n",
       "      <th>rjPlayerRole</th>\n",
       "      <th>rmPlayerRole</th>\n",
       "      <th>raPlayerRole</th>\n",
       "      <th>...</th>\n",
       "      <th>raPlayerChampion</th>\n",
       "      <th>rsPlayerChampion</th>\n",
       "      <th>bCoopPlayer</th>\n",
       "      <th>rCoopPlayer</th>\n",
       "      <th>vsPlayer</th>\n",
       "      <th>bCoopChampion</th>\n",
       "      <th>rCoopChampion</th>\n",
       "      <th>vsChampion</th>\n",
       "      <th>bTeamColor</th>\n",
       "      <th>rTeamColor</th>\n",
       "    </tr>\n",
       "  </thead>\n",
       "  <tbody>\n",
       "    <tr>\n",
       "      <th>0</th>\n",
       "      <td>1</td>\n",
       "      <td>0.583333</td>\n",
       "      <td>0.523810</td>\n",
       "      <td>0.708029</td>\n",
       "      <td>0.613445</td>\n",
       "      <td>0.583333</td>\n",
       "      <td>0.483146</td>\n",
       "      <td>0.516667</td>\n",
       "      <td>0.476923</td>\n",
       "      <td>0.596899</td>\n",
       "      <td>...</td>\n",
       "      <td>0.521739</td>\n",
       "      <td>0.000000</td>\n",
       "      <td>13.767162</td>\n",
       "      <td>13.040247</td>\n",
       "      <td>13.580071</td>\n",
       "      <td>12.360696</td>\n",
       "      <td>13.734771</td>\n",
       "      <td>12.361474</td>\n",
       "      <td>0.708029</td>\n",
       "      <td>0.596899</td>\n",
       "    </tr>\n",
       "    <tr>\n",
       "      <th>1</th>\n",
       "      <td>0</td>\n",
       "      <td>0.560000</td>\n",
       "      <td>0.500000</td>\n",
       "      <td>0.583333</td>\n",
       "      <td>0.425926</td>\n",
       "      <td>0.461538</td>\n",
       "      <td>0.462963</td>\n",
       "      <td>0.500000</td>\n",
       "      <td>0.322581</td>\n",
       "      <td>0.500000</td>\n",
       "      <td>...</td>\n",
       "      <td>0.533333</td>\n",
       "      <td>0.555556</td>\n",
       "      <td>11.152535</td>\n",
       "      <td>9.888245</td>\n",
       "      <td>1.611111</td>\n",
       "      <td>10.746699</td>\n",
       "      <td>12.583699</td>\n",
       "      <td>11.321637</td>\n",
       "      <td>0.473684</td>\n",
       "      <td>0.400000</td>\n",
       "    </tr>\n",
       "    <tr>\n",
       "      <th>2</th>\n",
       "      <td>1</td>\n",
       "      <td>0.483871</td>\n",
       "      <td>0.700000</td>\n",
       "      <td>0.669643</td>\n",
       "      <td>0.511905</td>\n",
       "      <td>0.750000</td>\n",
       "      <td>0.630435</td>\n",
       "      <td>0.533333</td>\n",
       "      <td>0.504762</td>\n",
       "      <td>0.583333</td>\n",
       "      <td>...</td>\n",
       "      <td>0.625000</td>\n",
       "      <td>0.000000</td>\n",
       "      <td>12.236232</td>\n",
       "      <td>9.672135</td>\n",
       "      <td>19.809739</td>\n",
       "      <td>12.499868</td>\n",
       "      <td>12.036395</td>\n",
       "      <td>14.065184</td>\n",
       "      <td>0.600000</td>\n",
       "      <td>0.625000</td>\n",
       "    </tr>\n",
       "    <tr>\n",
       "      <th>3</th>\n",
       "      <td>0</td>\n",
       "      <td>0.571429</td>\n",
       "      <td>0.550000</td>\n",
       "      <td>0.538462</td>\n",
       "      <td>0.514019</td>\n",
       "      <td>0.633663</td>\n",
       "      <td>0.384615</td>\n",
       "      <td>0.562500</td>\n",
       "      <td>0.408163</td>\n",
       "      <td>1.000000</td>\n",
       "      <td>...</td>\n",
       "      <td>1.000000</td>\n",
       "      <td>0.578947</td>\n",
       "      <td>13.148958</td>\n",
       "      <td>19.120690</td>\n",
       "      <td>6.476123</td>\n",
       "      <td>12.645715</td>\n",
       "      <td>12.816541</td>\n",
       "      <td>12.902756</td>\n",
       "      <td>0.512821</td>\n",
       "      <td>0.381356</td>\n",
       "    </tr>\n",
       "    <tr>\n",
       "      <th>4</th>\n",
       "      <td>1</td>\n",
       "      <td>1.000000</td>\n",
       "      <td>0.651515</td>\n",
       "      <td>0.666667</td>\n",
       "      <td>0.739130</td>\n",
       "      <td>0.624060</td>\n",
       "      <td>0.350000</td>\n",
       "      <td>0.350000</td>\n",
       "      <td>0.300000</td>\n",
       "      <td>0.250000</td>\n",
       "      <td>...</td>\n",
       "      <td>0.000000</td>\n",
       "      <td>0.000000</td>\n",
       "      <td>14.449021</td>\n",
       "      <td>10.512264</td>\n",
       "      <td>25.000000</td>\n",
       "      <td>13.162254</td>\n",
       "      <td>11.364051</td>\n",
       "      <td>12.801331</td>\n",
       "      <td>0.610294</td>\n",
       "      <td>0.391304</td>\n",
       "    </tr>\n",
       "  </tbody>\n",
       "</table>\n",
       "<p>5 rows × 29 columns</p>\n",
       "</div>"
      ],
      "text/plain": [
       "   bResult  btPlayerRole  bjPlayerRole  bmPlayerRole  baPlayerRole  \\\n",
       "0        1      0.583333      0.523810      0.708029      0.613445   \n",
       "1        0      0.560000      0.500000      0.583333      0.425926   \n",
       "2        1      0.483871      0.700000      0.669643      0.511905   \n",
       "3        0      0.571429      0.550000      0.538462      0.514019   \n",
       "4        1      1.000000      0.651515      0.666667      0.739130   \n",
       "\n",
       "   bsPlayerRole  rtPlayerRole  rjPlayerRole  rmPlayerRole  raPlayerRole  ...  \\\n",
       "0      0.583333      0.483146      0.516667      0.476923      0.596899  ...   \n",
       "1      0.461538      0.462963      0.500000      0.322581      0.500000  ...   \n",
       "2      0.750000      0.630435      0.533333      0.504762      0.583333  ...   \n",
       "3      0.633663      0.384615      0.562500      0.408163      1.000000  ...   \n",
       "4      0.624060      0.350000      0.350000      0.300000      0.250000  ...   \n",
       "\n",
       "   raPlayerChampion  rsPlayerChampion  bCoopPlayer  rCoopPlayer   vsPlayer  \\\n",
       "0          0.521739          0.000000    13.767162    13.040247  13.580071   \n",
       "1          0.533333          0.555556    11.152535     9.888245   1.611111   \n",
       "2          0.625000          0.000000    12.236232     9.672135  19.809739   \n",
       "3          1.000000          0.578947    13.148958    19.120690   6.476123   \n",
       "4          0.000000          0.000000    14.449021    10.512264  25.000000   \n",
       "\n",
       "   bCoopChampion  rCoopChampion  vsChampion  bTeamColor  rTeamColor  \n",
       "0      12.360696      13.734771   12.361474    0.708029    0.596899  \n",
       "1      10.746699      12.583699   11.321637    0.473684    0.400000  \n",
       "2      12.499868      12.036395   14.065184    0.600000    0.625000  \n",
       "3      12.645715      12.816541   12.902756    0.512821    0.381356  \n",
       "4      13.162254      11.364051   12.801331    0.610294    0.391304  \n",
       "\n",
       "[5 rows x 29 columns]"
      ]
     },
     "execution_count": 4,
     "metadata": {},
     "output_type": "execute_result"
    }
   ],
   "source": [
    "train_data.head()"
   ]
  },
  {
   "cell_type": "code",
   "execution_count": 5,
   "id": "fab3e765-7d2c-45f3-a4af-d70d644ae94b",
   "metadata": {},
   "outputs": [
    {
     "data": {
      "text/plain": [
       "6823"
      ]
     },
     "execution_count": 5,
     "metadata": {},
     "output_type": "execute_result"
    }
   ],
   "source": [
    "len(train_data)"
   ]
  },
  {
   "cell_type": "code",
   "execution_count": 6,
   "id": "3b2669ce-a1bc-4563-a0ad-6d2c80a9feac",
   "metadata": {},
   "outputs": [
    {
     "data": {
      "text/plain": [
       "759"
      ]
     },
     "execution_count": 6,
     "metadata": {},
     "output_type": "execute_result"
    }
   ],
   "source": [
    "len(test_data)"
   ]
  },
  {
   "cell_type": "code",
   "execution_count": 7,
   "id": "5046ffb9-b8aa-4b29-99f2-d0563af277cf",
   "metadata": {},
   "outputs": [
    {
     "data": {
      "text/plain": [
       "(6823, 29)"
      ]
     },
     "execution_count": 7,
     "metadata": {},
     "output_type": "execute_result"
    }
   ],
   "source": [
    "train_data.shape"
   ]
  },
  {
   "cell_type": "code",
   "execution_count": 8,
   "id": "d27d699a-f42d-43e9-82b2-6d37903dc33a",
   "metadata": {},
   "outputs": [
    {
     "data": {
      "text/plain": [
       "(759, 29)"
      ]
     },
     "execution_count": 8,
     "metadata": {},
     "output_type": "execute_result"
    }
   ],
   "source": [
    "test_data.shape"
   ]
  },
  {
   "cell_type": "code",
   "execution_count": 9,
   "id": "775edeeb-47ef-44fd-a45d-385f2b7e7411",
   "metadata": {},
   "outputs": [
    {
     "data": {
      "text/plain": [
       "bResult               int64\n",
       "btPlayerRole        float64\n",
       "bjPlayerRole        float64\n",
       "bmPlayerRole        float64\n",
       "baPlayerRole        float64\n",
       "bsPlayerRole        float64\n",
       "rtPlayerRole        float64\n",
       "rjPlayerRole        float64\n",
       "rmPlayerRole        float64\n",
       "raPlayerRole        float64\n",
       "rsPlayerRole        float64\n",
       "btPlayerChampion    float64\n",
       "bjPlayerChampion    float64\n",
       "bmPlayerChampion    float64\n",
       "baPlayerChampion    float64\n",
       "bsPlayerChampion    float64\n",
       "rtPlayerChampion    float64\n",
       "rjPlayerChampion    float64\n",
       "rmPlayerChampion    float64\n",
       "raPlayerChampion    float64\n",
       "rsPlayerChampion    float64\n",
       "bCoopPlayer         float64\n",
       "rCoopPlayer         float64\n",
       "vsPlayer            float64\n",
       "bCoopChampion       float64\n",
       "rCoopChampion       float64\n",
       "vsChampion          float64\n",
       "bTeamColor          float64\n",
       "rTeamColor          float64\n",
       "dtype: object"
      ]
     },
     "execution_count": 9,
     "metadata": {},
     "output_type": "execute_result"
    }
   ],
   "source": [
    "train_data.dtypes"
   ]
  },
  {
   "cell_type": "raw",
   "id": "3b7ff727-e939-4f8f-a1ec-b2afcbdabba2",
   "metadata": {
    "scrolled": true
   },
   "source": [
    "train_data.hist(bins=50, figsize=(12,8))\n",
    "plt"
   ]
  },
  {
   "cell_type": "code",
   "execution_count": 10,
   "id": "c6ea22c0-ac4e-49e0-bd81-0c2c09c20189",
   "metadata": {},
   "outputs": [],
   "source": [
    "model = tf.keras.Sequential()\n",
    "model.add(tf.keras.layers.Input(shape=[28]))\n",
    "model.add(tf.keras.layers.Dropout(rate=dropout_rate))\n",
    "for _ in range(num_hidden_layers):\n",
    "    model.add(tf.keras.layers.Dense(num_hidden_layer_neurons, activation=hidden_layer_activation_function))\n",
    "    model.add(tf.keras.layers.Dropout(rate=dropout_rate))\n",
    "model.add(tf.keras.layers.Dense(1, activation=output_layer_activation_function))\n",
    "\n",
    "if op_type == OP_RMSPROP:\n",
    "    model.compile(\n",
    "        loss=\"binary_crossentropy\",\n",
    "        optimizer=tf.keras.optimizers.RMSprop(learning_rate=optimizer_learning_rate, rho=gradient_decay_rho),\n",
    "        metrics=[\"accuracy\"])\n",
    "else:\n",
    "    model.compile(\n",
    "        loss=\"binary_crossentropy\",\n",
    "        optimizer=tf.keras.optimizers.SGD(learning_rate=optimizer_learning_rate, decay=learning_rate_decay),\n",
    "        metrics=[\"accuracy\"])"
   ]
  },
  {
   "cell_type": "raw",
   "id": "3e56c78b-f055-4bdc-bc1c-2970bf4e010d",
   "metadata": {},
   "source": [
    "model.summary()"
   ]
  },
  {
   "cell_type": "code",
   "execution_count": 11,
   "id": "de4f432d-f122-4b55-ac43-651edb77822c",
   "metadata": {},
   "outputs": [],
   "source": [
    "y_train = train_data[\"bResult\"]\n",
    "y_test  =  test_data[\"bResult\"]"
   ]
  },
  {
   "cell_type": "raw",
   "id": "b2bac014-a650-4a21-838f-86ee498a7a91",
   "metadata": {},
   "source": [
    "y_train"
   ]
  },
  {
   "cell_type": "raw",
   "id": "c481b5c4-41c8-47b3-89dd-8c7fc44ac669",
   "metadata": {},
   "source": [
    "y_test"
   ]
  },
  {
   "cell_type": "code",
   "execution_count": 12,
   "id": "28b6e36f-84b2-4291-ab47-1f2bf5cca9f1",
   "metadata": {},
   "outputs": [],
   "source": [
    "# Remove the match result column from the data.\n",
    "X_train = train_data.drop(\"bResult\", axis=1)\n",
    "X_test  =  test_data.drop(\"bResult\", axis=1)"
   ]
  },
  {
   "cell_type": "raw",
   "id": "29e3f4fe-56c2-4f6a-9269-734fe6e26910",
   "metadata": {},
   "source": [
    "X_train"
   ]
  },
  {
   "cell_type": "code",
   "execution_count": 13,
   "id": "0f661868-8a6e-4f29-8bfd-aedf7236b2fe",
   "metadata": {},
   "outputs": [],
   "source": [
    "import time\n",
    "start_time = time.time()"
   ]
  },
  {
   "cell_type": "code",
   "execution_count": 14,
   "id": "bd506ee0-a705-4e61-be18-ddae61211f04",
   "metadata": {
    "scrolled": true
   },
   "outputs": [
    {
     "name": "stdout",
     "output_type": "stream",
     "text": [
      "Epoch 1/30\n",
      "\u001b[1m3/3\u001b[0m \u001b[32m━━━━━━━━━━━━━━━━━━━━\u001b[0m\u001b[37m\u001b[0m \u001b[1m1s\u001b[0m 109ms/step - accuracy: 0.5428 - loss: 0.7661 - val_accuracy: 0.9565 - val_loss: 0.2857\n",
      "Epoch 2/30\n",
      "\u001b[1m3/3\u001b[0m \u001b[32m━━━━━━━━━━━━━━━━━━━━\u001b[0m\u001b[37m\u001b[0m \u001b[1m0s\u001b[0m 21ms/step - accuracy: 0.6518 - loss: 0.6438 - val_accuracy: 0.9723 - val_loss: 0.2137\n",
      "Epoch 3/30\n",
      "\u001b[1m3/3\u001b[0m \u001b[32m━━━━━━━━━━━━━━━━━━━━\u001b[0m\u001b[37m\u001b[0m \u001b[1m0s\u001b[0m 23ms/step - accuracy: 0.6777 - loss: 0.6044 - val_accuracy: 0.9710 - val_loss: 0.1793\n",
      "Epoch 4/30\n",
      "\u001b[1m3/3\u001b[0m \u001b[32m━━━━━━━━━━━━━━━━━━━━\u001b[0m\u001b[37m\u001b[0m \u001b[1m0s\u001b[0m 22ms/step - accuracy: 0.6994 - loss: 0.5810 - val_accuracy: 0.9605 - val_loss: 0.1890\n",
      "Epoch 5/30\n",
      "\u001b[1m3/3\u001b[0m \u001b[32m━━━━━━━━━━━━━━━━━━━━\u001b[0m\u001b[37m\u001b[0m \u001b[1m0s\u001b[0m 24ms/step - accuracy: 0.7034 - loss: 0.5790 - val_accuracy: 0.9776 - val_loss: 0.1524\n",
      "Epoch 6/30\n",
      "\u001b[1m3/3\u001b[0m \u001b[32m━━━━━━━━━━━━━━━━━━━━\u001b[0m\u001b[37m\u001b[0m \u001b[1m0s\u001b[0m 24ms/step - accuracy: 0.7215 - loss: 0.5491 - val_accuracy: 0.9776 - val_loss: 0.1422\n",
      "Epoch 7/30\n",
      "\u001b[1m3/3\u001b[0m \u001b[32m━━━━━━━━━━━━━━━━━━━━\u001b[0m\u001b[37m\u001b[0m \u001b[1m0s\u001b[0m 26ms/step - accuracy: 0.7383 - loss: 0.5241 - val_accuracy: 0.9816 - val_loss: 0.1348\n",
      "Epoch 8/30\n",
      "\u001b[1m3/3\u001b[0m \u001b[32m━━━━━━━━━━━━━━━━━━━━\u001b[0m\u001b[37m\u001b[0m \u001b[1m0s\u001b[0m 27ms/step - accuracy: 0.7303 - loss: 0.5295 - val_accuracy: 0.9802 - val_loss: 0.1269\n",
      "Epoch 9/30\n",
      "\u001b[1m3/3\u001b[0m \u001b[32m━━━━━━━━━━━━━━━━━━━━\u001b[0m\u001b[37m\u001b[0m \u001b[1m0s\u001b[0m 24ms/step - accuracy: 0.7489 - loss: 0.5068 - val_accuracy: 0.9868 - val_loss: 0.1115\n",
      "Epoch 10/30\n",
      "\u001b[1m3/3\u001b[0m \u001b[32m━━━━━━━━━━━━━━━━━━━━\u001b[0m\u001b[37m\u001b[0m \u001b[1m0s\u001b[0m 23ms/step - accuracy: 0.7476 - loss: 0.5117 - val_accuracy: 0.9842 - val_loss: 0.1039\n",
      "Epoch 11/30\n",
      "\u001b[1m3/3\u001b[0m \u001b[32m━━━━━━━━━━━━━━━━━━━━\u001b[0m\u001b[37m\u001b[0m \u001b[1m0s\u001b[0m 22ms/step - accuracy: 0.7669 - loss: 0.4832 - val_accuracy: 0.9895 - val_loss: 0.0912\n",
      "Epoch 12/30\n",
      "\u001b[1m3/3\u001b[0m \u001b[32m━━━━━━━━━━━━━━━━━━━━\u001b[0m\u001b[37m\u001b[0m \u001b[1m0s\u001b[0m 22ms/step - accuracy: 0.7659 - loss: 0.4774 - val_accuracy: 0.9829 - val_loss: 0.0969\n",
      "Epoch 13/30\n",
      "\u001b[1m3/3\u001b[0m \u001b[32m━━━━━━━━━━━━━━━━━━━━\u001b[0m\u001b[37m\u001b[0m \u001b[1m0s\u001b[0m 22ms/step - accuracy: 0.7601 - loss: 0.4863 - val_accuracy: 0.9921 - val_loss: 0.0746\n",
      "Epoch 14/30\n",
      "\u001b[1m3/3\u001b[0m \u001b[32m━━━━━━━━━━━━━━━━━━━━\u001b[0m\u001b[37m\u001b[0m \u001b[1m0s\u001b[0m 22ms/step - accuracy: 0.7829 - loss: 0.4580 - val_accuracy: 0.9895 - val_loss: 0.0752\n",
      "Epoch 15/30\n",
      "\u001b[1m3/3\u001b[0m \u001b[32m━━━━━━━━━━━━━━━━━━━━\u001b[0m\u001b[37m\u001b[0m \u001b[1m0s\u001b[0m 22ms/step - accuracy: 0.7837 - loss: 0.4502 - val_accuracy: 0.9895 - val_loss: 0.0687\n",
      "Epoch 16/30\n",
      "\u001b[1m3/3\u001b[0m \u001b[32m━━━━━━━━━━━━━━━━━━━━\u001b[0m\u001b[37m\u001b[0m \u001b[1m0s\u001b[0m 24ms/step - accuracy: 0.7786 - loss: 0.4526 - val_accuracy: 0.9947 - val_loss: 0.0609\n",
      "Epoch 17/30\n",
      "\u001b[1m3/3\u001b[0m \u001b[32m━━━━━━━━━━━━━━━━━━━━\u001b[0m\u001b[37m\u001b[0m \u001b[1m0s\u001b[0m 25ms/step - accuracy: 0.7975 - loss: 0.4424 - val_accuracy: 0.9921 - val_loss: 0.0568\n",
      "Epoch 18/30\n",
      "\u001b[1m3/3\u001b[0m \u001b[32m━━━━━━━━━━━━━━━━━━━━\u001b[0m\u001b[37m\u001b[0m \u001b[1m0s\u001b[0m 27ms/step - accuracy: 0.7997 - loss: 0.4264 - val_accuracy: 0.9947 - val_loss: 0.0585\n",
      "Epoch 19/30\n",
      "\u001b[1m3/3\u001b[0m \u001b[32m━━━━━━━━━━━━━━━━━━━━\u001b[0m\u001b[37m\u001b[0m \u001b[1m0s\u001b[0m 32ms/step - accuracy: 0.7933 - loss: 0.4427 - val_accuracy: 0.9960 - val_loss: 0.0476\n",
      "Epoch 20/30\n",
      "\u001b[1m3/3\u001b[0m \u001b[32m━━━━━━━━━━━━━━━━━━━━\u001b[0m\u001b[37m\u001b[0m \u001b[1m0s\u001b[0m 33ms/step - accuracy: 0.8056 - loss: 0.4231 - val_accuracy: 0.9974 - val_loss: 0.0479\n",
      "Epoch 21/30\n",
      "\u001b[1m3/3\u001b[0m \u001b[32m━━━━━━━━━━━━━━━━━━━━\u001b[0m\u001b[37m\u001b[0m \u001b[1m0s\u001b[0m 35ms/step - accuracy: 0.8107 - loss: 0.4197 - val_accuracy: 0.9921 - val_loss: 0.0483\n",
      "Epoch 22/30\n",
      "\u001b[1m3/3\u001b[0m \u001b[32m━━━━━━━━━━━━━━━━━━━━\u001b[0m\u001b[37m\u001b[0m \u001b[1m0s\u001b[0m 32ms/step - accuracy: 0.8073 - loss: 0.4157 - val_accuracy: 0.9987 - val_loss: 0.0426\n",
      "Epoch 23/30\n",
      "\u001b[1m3/3\u001b[0m \u001b[32m━━━━━━━━━━━━━━━━━━━━\u001b[0m\u001b[37m\u001b[0m \u001b[1m0s\u001b[0m 33ms/step - accuracy: 0.8036 - loss: 0.4190 - val_accuracy: 0.9960 - val_loss: 0.0397\n",
      "Epoch 24/30\n",
      "\u001b[1m3/3\u001b[0m \u001b[32m━━━━━━━━━━━━━━━━━━━━\u001b[0m\u001b[37m\u001b[0m \u001b[1m0s\u001b[0m 41ms/step - accuracy: 0.8052 - loss: 0.4131 - val_accuracy: 0.9987 - val_loss: 0.0375\n",
      "Epoch 25/30\n",
      "\u001b[1m3/3\u001b[0m \u001b[32m━━━━━━━━━━━━━━━━━━━━\u001b[0m\u001b[37m\u001b[0m \u001b[1m0s\u001b[0m 31ms/step - accuracy: 0.8129 - loss: 0.4075 - val_accuracy: 0.9974 - val_loss: 0.0352\n",
      "Epoch 26/30\n",
      "\u001b[1m3/3\u001b[0m \u001b[32m━━━━━━━━━━━━━━━━━━━━\u001b[0m\u001b[37m\u001b[0m \u001b[1m0s\u001b[0m 31ms/step - accuracy: 0.8050 - loss: 0.4157 - val_accuracy: 0.9974 - val_loss: 0.0366\n",
      "Epoch 27/30\n",
      "\u001b[1m3/3\u001b[0m \u001b[32m━━━━━━━━━━━━━━━━━━━━\u001b[0m\u001b[37m\u001b[0m \u001b[1m0s\u001b[0m 28ms/step - accuracy: 0.8140 - loss: 0.4092 - val_accuracy: 1.0000 - val_loss: 0.0293\n",
      "Epoch 28/30\n",
      "\u001b[1m3/3\u001b[0m \u001b[32m━━━━━━━━━━━━━━━━━━━━\u001b[0m\u001b[37m\u001b[0m \u001b[1m0s\u001b[0m 26ms/step - accuracy: 0.8144 - loss: 0.3991 - val_accuracy: 0.9987 - val_loss: 0.0294\n",
      "Epoch 29/30\n",
      "\u001b[1m3/3\u001b[0m \u001b[32m━━━━━━━━━━━━━━━━━━━━\u001b[0m\u001b[37m\u001b[0m \u001b[1m0s\u001b[0m 31ms/step - accuracy: 0.8204 - loss: 0.4000 - val_accuracy: 0.9960 - val_loss: 0.0338\n",
      "Epoch 30/30\n",
      "\u001b[1m3/3\u001b[0m \u001b[32m━━━━━━━━━━━━━━━━━━━━\u001b[0m\u001b[37m\u001b[0m \u001b[1m0s\u001b[0m 27ms/step - accuracy: 0.8090 - loss: 0.4114 - val_accuracy: 0.9987 - val_loss: 0.0293\n"
     ]
    }
   ],
   "source": [
    "# Train the model.\n",
    "\n",
    "history = model.fit(\n",
    "    X_train, y_train, \n",
    "    validation_data=(X_test, y_test),\n",
    "    epochs=training_epochs,\n",
    "    batch_size=batch_size)"
   ]
  },
  {
   "cell_type": "code",
   "execution_count": 15,
   "id": "1de5bc47-67ca-407a-8240-68ffe7b08f7a",
   "metadata": {},
   "outputs": [
    {
     "data": {
      "text/plain": [
       "4.583531141281128"
      ]
     },
     "execution_count": 15,
     "metadata": {},
     "output_type": "execute_result"
    }
   ],
   "source": [
    "train_time = time.time() - start_time\n",
    "train_time"
   ]
  },
  {
   "cell_type": "code",
   "execution_count": 16,
   "id": "37d0897d-5465-4f03-868c-f4447e70e95a",
   "metadata": {},
   "outputs": [],
   "source": [
    "import keras_tuner as kt\n",
    "\n",
    "def build_model(hp):\n",
    "    tune_n_hidden = hp.Int(\"n_hidden\", min_value=0, max_value=8, default=1)\n",
    "    tune_n_neurons = hp.Int(\"n_neurons\", min_value=16, max_value=256)\n",
    "    tune_learning_rate = hp.Float(\"learning_rate\", min_value=1e-4, max_value=1e-2, sampling=\"log\")\n",
    "    tune_dropout_rate = hp.Float(\"dropout_rate\", min_value=0.1, max_value=0.9)\n",
    "    tune_optimizer = hp.Choice(\"optimizer\", values=[\"sgd\", \"rmsprop\"])\n",
    "    \n",
    "    tune_rho = hp.Float(\"rho\", min_value=0.7, max_value=1.0)\n",
    "    tune_learning_rate_decay = hp.Float(\"learning_rate_decay\", min_value=0.01, max_value=0.99)\n",
    "    tune_decay_steps = hp.Int(\"decay_steps\", min_value=1000, max_value=100000)\n",
    "    tune_lr_schedule = tf.keras.optimizers.schedules.ExponentialDecay(\n",
    "        initial_learning_rate=tune_learning_rate,\n",
    "        decay_steps=tune_decay_steps,\n",
    "        decay_rate=tune_learning_rate_decay)\n",
    "    \n",
    "    if tune_optimizer == \"sgd\":\n",
    "        tune_optimizer = tf.keras.optimizers.SGD(learning_rate=tune_lr_schedule)\n",
    "    else:\n",
    "        tune_optimizer = tf.keras.optimizers.RMSprop(learning_rate=tune_learning_rate, rho=tune_rho)\n",
    "    \n",
    "    model = tf.keras.Sequential()\n",
    "    model.add(tf.keras.layers.Input(shape=[28]))\n",
    "    model.add(tf.keras.layers.Dropout(rate=tune_dropout_rate))\n",
    "    for _ in range(tune_n_hidden):\n",
    "        model.add(tf.keras.layers.Dense(tune_n_neurons, activation=hidden_layer_activation_function))\n",
    "        model.add(tf.keras.layers.Dropout(rate=tune_dropout_rate))\n",
    "    model.add(tf.keras.layers.Dense(1, activation=output_layer_activation_function))\n",
    "\n",
    "    model.compile(\n",
    "        loss=\"binary_crossentropy\",\n",
    "        optimizer=tune_optimizer,\n",
    "        metrics=[\"accuracy\"])\n",
    "\n",
    "    return model"
   ]
  },
  {
   "cell_type": "code",
   "execution_count": 17,
   "id": "ba982e7a-3d44-4a62-8f10-cead719a7818",
   "metadata": {},
   "outputs": [
    {
     "name": "stdout",
     "output_type": "stream",
     "text": [
      "Trial 10 Complete [00h 00m 08s]\n",
      "val_accuracy: 0.9802371263504028\n",
      "\n",
      "Best val_accuracy So Far: 1.0\n",
      "Total elapsed time: 00h 01m 11s\n"
     ]
    }
   ],
   "source": [
    "random_search_tuner = kt.RandomSearch(\n",
    "    build_model, objective=\"val_accuracy\", max_trials=10, overwrite=True, directory=\"results\", project_name=\"tune_search\", seed=42)\n",
    "random_search_tuner.search(\n",
    "    X_train, y_train, \n",
    "    validation_data=(X_test, y_test),\n",
    "    epochs=training_epochs,\n",
    "    batch_size=batch_size\n",
    ")"
   ]
  },
  {
   "cell_type": "code",
   "execution_count": 18,
   "id": "a07f8b32-ef09-46c8-a226-db967b839fd0",
   "metadata": {},
   "outputs": [
    {
     "name": "stderr",
     "output_type": "stream",
     "text": [
      "C:\\Users\\scotty\\AppData\\Roaming\\Python\\Python312\\site-packages\\keras\\src\\saving\\saving_lib.py:719: UserWarning: Skipping variable loading for optimizer 'rmsprop', because it has 2 variables whereas the saved optimizer has 6 variables. \n",
      "  saveable.load_own_variables(weights_store.get(inner_path))\n",
      "C:\\Users\\scotty\\AppData\\Roaming\\Python\\Python312\\site-packages\\keras\\src\\saving\\saving_lib.py:719: UserWarning: Skipping variable loading for optimizer 'rmsprop', because it has 2 variables whereas the saved optimizer has 12 variables. \n",
      "  saveable.load_own_variables(weights_store.get(inner_path))\n",
      "C:\\Users\\scotty\\AppData\\Roaming\\Python\\Python312\\site-packages\\keras\\src\\saving\\saving_lib.py:719: UserWarning: Skipping variable loading for optimizer 'rmsprop', because it has 2 variables whereas the saved optimizer has 8 variables. \n",
      "  saveable.load_own_variables(weights_store.get(inner_path))\n"
     ]
    }
   ],
   "source": [
    "top3_models = random_search_tuner.get_best_models(num_models=3)\n",
    "best_model = top3_models[0]"
   ]
  },
  {
   "cell_type": "code",
   "execution_count": 19,
   "id": "540c53f9-fc0f-4025-b948-3f7fa6369683",
   "metadata": {},
   "outputs": [
    {
     "data": {
      "text/plain": [
       "{'n_hidden': 1,\n",
       " 'n_neurons': 135,\n",
       " 'learning_rate': 0.0029044390072926946,\n",
       " 'dropout_rate': 0.2596709650832801,\n",
       " 'optimizer': 'rmsprop',\n",
       " 'rho': 0.7437864402038941,\n",
       " 'learning_rate_decay': 0.39953909944182836,\n",
       " 'decay_steps': 9028}"
      ]
     },
     "execution_count": 19,
     "metadata": {},
     "output_type": "execute_result"
    }
   ],
   "source": [
    "top3_params = random_search_tuner.get_best_hyperparameters(num_trials=3)\n",
    "top3_params[0].values"
   ]
  },
  {
   "cell_type": "code",
   "execution_count": 20,
   "id": "5b96bb77-42d9-4ecb-aef3-e42aee919158",
   "metadata": {},
   "outputs": [
    {
     "name": "stdout",
     "output_type": "stream",
     "text": [
      "Trial 05 summary\n",
      "Hyperparameters:\n",
      "n_hidden: 1\n",
      "n_neurons: 135\n",
      "learning_rate: 0.0029044390072926946\n",
      "dropout_rate: 0.2596709650832801\n",
      "optimizer: rmsprop\n",
      "rho: 0.7437864402038941\n",
      "learning_rate_decay: 0.39953909944182836\n",
      "decay_steps: 9028\n",
      "Score: 1.0\n"
     ]
    }
   ],
   "source": [
    "best_trial = random_search_tuner.oracle.get_best_trials(num_trials=1)[0]\n",
    "best_trial.summary()"
   ]
  },
  {
   "cell_type": "code",
   "execution_count": 21,
   "id": "ee161f68-eac0-4e66-bd15-bd0296474a23",
   "metadata": {},
   "outputs": [
    {
     "data": {
      "text/plain": [
       "np.float64(1.0)"
      ]
     },
     "execution_count": 21,
     "metadata": {},
     "output_type": "execute_result"
    }
   ],
   "source": [
    "best_trial.metrics.get_last_value(\"val_accuracy\")"
   ]
  },
  {
   "cell_type": "code",
   "execution_count": 22,
   "id": "7689b2a0-5770-4170-ae4a-b054bebb8d46",
   "metadata": {},
   "outputs": [
    {
     "name": "stdout",
     "output_type": "stream",
     "text": [
      "\u001b[1m24/24\u001b[0m \u001b[32m━━━━━━━━━━━━━━━━━━━━\u001b[0m\u001b[37m\u001b[0m \u001b[1m0s\u001b[0m 2ms/step - accuracy: 1.0000 - loss: 0.0448\n"
     ]
    }
   ],
   "source": [
    "#best_model.fit(X_train, y_train, epochs=10)\n",
    "test_loss, test_accuracy = best_model.evaluate(X_test, y_test)"
   ]
  },
  {
   "cell_type": "code",
   "execution_count": null,
   "id": "19178e1e-efdc-41b9-b2b2-7e5069781c9c",
   "metadata": {},
   "outputs": [],
   "source": []
  }
 ],
 "metadata": {
  "kernelspec": {
   "display_name": "env2",
   "language": "python",
   "name": "python3"
  },
  "language_info": {
   "codemirror_mode": {
    "name": "ipython",
    "version": 3
   },
   "file_extension": ".py",
   "mimetype": "text/x-python",
   "name": "python",
   "nbconvert_exporter": "python",
   "pygments_lexer": "ipython3",
   "version": "3.9.13"
  }
 },
 "nbformat": 4,
 "nbformat_minor": 5
}
