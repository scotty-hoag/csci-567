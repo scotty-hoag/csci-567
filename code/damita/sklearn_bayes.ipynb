{
 "cells": [
  {
   "cell_type": "code",
   "execution_count": 2,
   "id": "0e9dff82-4b89-432f-9114-e6325816c989",
   "metadata": {},
   "outputs": [],
   "source": [
    "import pandas as pd\n",
    "from sklearn.naive_bayes import GaussianNB\n",
    "from sklearn.metrics import accuracy_score\n",
    "from sklearn.model_selection import train_test_split, RepeatedKFold"
   ]
  },
  {
   "cell_type": "code",
   "execution_count": 4,
   "id": "73108334-d102-470c-82f8-b9d17c4dd132",
   "metadata": {},
   "outputs": [],
   "source": [
    "# train_df = pd.read_csv('../feature_data/train/featureInput_noChampionRole_ZSCORED.csv')\n",
    "train_df = pd.read_csv('trial_train_data2.csv')\n",
    "# test_df = pd.read_csv('../feature_data/test/featureInput_noChampionRole_ZSCORED.csv')\n",
    "test_df = pd.read_csv('trial_test_data2.csv')"
   ]
  },
  {
   "cell_type": "code",
   "execution_count": 6,
   "id": "ff6293f1-4b06-4d9a-a762-a5d6aa785360",
   "metadata": {},
   "outputs": [
    {
     "data": {
      "text/html": [
       "<div>\n",
       "<style scoped>\n",
       "    .dataframe tbody tr th:only-of-type {\n",
       "        vertical-align: middle;\n",
       "    }\n",
       "\n",
       "    .dataframe tbody tr th {\n",
       "        vertical-align: top;\n",
       "    }\n",
       "\n",
       "    .dataframe thead th {\n",
       "        text-align: right;\n",
       "    }\n",
       "</style>\n",
       "<table border=\"1\" class=\"dataframe\">\n",
       "  <thead>\n",
       "    <tr style=\"text-align: right;\">\n",
       "      <th></th>\n",
       "      <th>Unnamed: 0</th>\n",
       "      <th>bResult</th>\n",
       "      <th>btPlayerRole</th>\n",
       "      <th>bjPlayerRole</th>\n",
       "      <th>bmPlayerRole</th>\n",
       "      <th>baPlayerRole</th>\n",
       "      <th>bsPlayerRole</th>\n",
       "      <th>rtPlayerRole</th>\n",
       "      <th>rjPlayerRole</th>\n",
       "      <th>rmPlayerRole</th>\n",
       "      <th>...</th>\n",
       "      <th>raPlayerChampion</th>\n",
       "      <th>rsPlayerChampion</th>\n",
       "      <th>bCoopPlayer</th>\n",
       "      <th>rCoopPlayer</th>\n",
       "      <th>bCoopChampion</th>\n",
       "      <th>rCoopChampion</th>\n",
       "      <th>vsPlayer</th>\n",
       "      <th>vsChampion</th>\n",
       "      <th>bTeamColor</th>\n",
       "      <th>rTeamColor</th>\n",
       "    </tr>\n",
       "  </thead>\n",
       "  <tbody>\n",
       "    <tr>\n",
       "      <th>0</th>\n",
       "      <td>1</td>\n",
       "      <td>1.0</td>\n",
       "      <td>0.701884</td>\n",
       "      <td>-0.205048</td>\n",
       "      <td>0.975121</td>\n",
       "      <td>0.714486</td>\n",
       "      <td>0.685246</td>\n",
       "      <td>-0.001432</td>\n",
       "      <td>0.401764</td>\n",
       "      <td>-0.109146</td>\n",
       "      <td>...</td>\n",
       "      <td>0.935151</td>\n",
       "      <td>0.706502</td>\n",
       "      <td>0.591416</td>\n",
       "      <td>0.150967</td>\n",
       "      <td>-0.427561</td>\n",
       "      <td>1.361532</td>\n",
       "      <td>0.282831</td>\n",
       "      <td>0.413140</td>\n",
       "      <td>1.050299</td>\n",
       "      <td>0.494876</td>\n",
       "    </tr>\n",
       "    <tr>\n",
       "      <th>1</th>\n",
       "      <td>2</td>\n",
       "      <td>0.0</td>\n",
       "      <td>-0.233737</td>\n",
       "      <td>-0.483903</td>\n",
       "      <td>-0.007889</td>\n",
       "      <td>-0.728082</td>\n",
       "      <td>-0.667611</td>\n",
       "      <td>-0.052322</td>\n",
       "      <td>-1.655595</td>\n",
       "      <td>-0.996363</td>\n",
       "      <td>...</td>\n",
       "      <td>-0.138737</td>\n",
       "      <td>0.847053</td>\n",
       "      <td>-0.181804</td>\n",
       "      <td>-0.824227</td>\n",
       "      <td>-1.419230</td>\n",
       "      <td>0.368822</td>\n",
       "      <td>-1.585880</td>\n",
       "      <td>-0.253838</td>\n",
       "      <td>-0.687879</td>\n",
       "      <td>-0.464691</td>\n",
       "    </tr>\n",
       "    <tr>\n",
       "      <th>2</th>\n",
       "      <td>3</td>\n",
       "      <td>1.0</td>\n",
       "      <td>-0.795546</td>\n",
       "      <td>-0.009849</td>\n",
       "      <td>0.719975</td>\n",
       "      <td>-0.010759</td>\n",
       "      <td>-0.228221</td>\n",
       "      <td>0.993817</td>\n",
       "      <td>0.401764</td>\n",
       "      <td>0.023766</td>\n",
       "      <td>...</td>\n",
       "      <td>-0.138737</td>\n",
       "      <td>0.853285</td>\n",
       "      <td>-0.095593</td>\n",
       "      <td>-0.556974</td>\n",
       "      <td>0.226590</td>\n",
       "      <td>-0.737584</td>\n",
       "      <td>0.517496</td>\n",
       "      <td>1.724576</td>\n",
       "      <td>-0.863766</td>\n",
       "      <td>0.169911</td>\n",
       "    </tr>\n",
       "  </tbody>\n",
       "</table>\n",
       "<p>3 rows × 30 columns</p>\n",
       "</div>"
      ],
      "text/plain": [
       "   Unnamed: 0  bResult  btPlayerRole  bjPlayerRole  bmPlayerRole  \\\n",
       "0           1      1.0      0.701884     -0.205048      0.975121   \n",
       "1           2      0.0     -0.233737     -0.483903     -0.007889   \n",
       "2           3      1.0     -0.795546     -0.009849      0.719975   \n",
       "\n",
       "   baPlayerRole  bsPlayerRole  rtPlayerRole  rjPlayerRole  rmPlayerRole  ...  \\\n",
       "0      0.714486      0.685246     -0.001432      0.401764     -0.109146  ...   \n",
       "1     -0.728082     -0.667611     -0.052322     -1.655595     -0.996363  ...   \n",
       "2     -0.010759     -0.228221      0.993817      0.401764      0.023766  ...   \n",
       "\n",
       "   raPlayerChampion  rsPlayerChampion  bCoopPlayer  rCoopPlayer  \\\n",
       "0          0.935151          0.706502     0.591416     0.150967   \n",
       "1         -0.138737          0.847053    -0.181804    -0.824227   \n",
       "2         -0.138737          0.853285    -0.095593    -0.556974   \n",
       "\n",
       "   bCoopChampion  rCoopChampion  vsPlayer  vsChampion  bTeamColor  rTeamColor  \n",
       "0      -0.427561       1.361532  0.282831    0.413140    1.050299    0.494876  \n",
       "1      -1.419230       0.368822 -1.585880   -0.253838   -0.687879   -0.464691  \n",
       "2       0.226590      -0.737584  0.517496    1.724576   -0.863766    0.169911  \n",
       "\n",
       "[3 rows x 30 columns]"
      ]
     },
     "execution_count": 6,
     "metadata": {},
     "output_type": "execute_result"
    }
   ],
   "source": [
    "train_df.head(3)"
   ]
  },
  {
   "cell_type": "code",
   "execution_count": 8,
   "id": "fda2181c-0ed0-4f53-b8bc-ba17ba1c9ed3",
   "metadata": {},
   "outputs": [],
   "source": [
    "# drop_cols = list(train_df.filter(regex='ChampionRole$').columns)\n",
    "drop_cols = ['Unnamed: 0']"
   ]
  },
  {
   "cell_type": "code",
   "execution_count": 10,
   "id": "02fd7e4b-e418-40f6-a7dd-3692fb5e2e54",
   "metadata": {},
   "outputs": [
    {
     "data": {
      "text/plain": [
       "Index(['bResult', 'btPlayerRole', 'bjPlayerRole', 'bmPlayerRole',\n",
       "       'baPlayerRole', 'bsPlayerRole', 'rtPlayerRole', 'rjPlayerRole',\n",
       "       'rmPlayerRole', 'raPlayerRole', 'rsPlayerRole', 'btPlayerChampion',\n",
       "       'bjPlayerChampion', 'bmPlayerChampion', 'baPlayerChampion',\n",
       "       'bsPlayerChampion', 'rtPlayerChampion', 'rjPlayerChampion',\n",
       "       'rmPlayerChampion', 'raPlayerChampion', 'rsPlayerChampion',\n",
       "       'bCoopPlayer', 'rCoopPlayer', 'bCoopChampion', 'rCoopChampion',\n",
       "       'vsPlayer', 'vsChampion', 'bTeamColor', 'rTeamColor'],\n",
       "      dtype='object')"
      ]
     },
     "execution_count": 10,
     "metadata": {},
     "output_type": "execute_result"
    }
   ],
   "source": [
    "train_df = train_df.drop(drop_cols, axis=1)\n",
    "train_df.columns"
   ]
  },
  {
   "cell_type": "code",
   "execution_count": 12,
   "id": "cee7e815-ec87-4ac6-a688-5882cac62601",
   "metadata": {},
   "outputs": [
    {
     "data": {
      "text/plain": [
       "29"
      ]
     },
     "execution_count": 12,
     "metadata": {},
     "output_type": "execute_result"
    }
   ],
   "source": [
    "len(list(train_df.columns))"
   ]
  },
  {
   "cell_type": "code",
   "execution_count": 14,
   "id": "e73e6d74-5a12-4649-b580-33eea11ff9fc",
   "metadata": {},
   "outputs": [
    {
     "data": {
      "text/plain": [
       "29"
      ]
     },
     "execution_count": 14,
     "metadata": {},
     "output_type": "execute_result"
    }
   ],
   "source": [
    "test_df = test_df.drop(drop_cols, axis=1)\n",
    "len(list(test_df.columns))"
   ]
  },
  {
   "cell_type": "code",
   "execution_count": 16,
   "id": "099a8386-84e8-445d-a884-d97f253e2ace",
   "metadata": {},
   "outputs": [],
   "source": [
    "y_train = train_df.loc[:, 'bResult']\n",
    "X_train = train_df.loc[:, train_df.columns != 'bResult']\n",
    "y_test = test_df.loc[:, 'bResult']\n",
    "X_test = test_df.loc[:, test_df.columns != 'bResult']"
   ]
  },
  {
   "cell_type": "code",
   "execution_count": 18,
   "id": "b452c077-03c4-4fe5-87bc-751cdffbacbc",
   "metadata": {},
   "outputs": [
    {
     "data": {
      "text/plain": [
       "<bound method DataFrame.count of       btPlayerRole  bjPlayerRole  bmPlayerRole  baPlayerRole  bsPlayerRole  \\\n",
       "0         0.701884     -0.205048      0.975121      0.714486      0.685246   \n",
       "1        -0.233737     -0.483903     -0.007889     -0.728082     -0.667611   \n",
       "2        -0.795546     -0.009849      0.719975     -0.010759     -0.228221   \n",
       "3        -0.016062      0.500671      0.573369     -0.430835      0.776097   \n",
       "4        -0.016062      0.390423      0.125801      0.932329      0.377655   \n",
       "...            ...           ...           ...           ...           ...   \n",
       "6819      0.741770      0.426780     -1.679006     -0.455187     -1.107000   \n",
       "6820     -1.234005     -0.673525     -0.676336     -1.714401     -0.374685   \n",
       "6821     -1.301891     -0.063371     -3.350123     -3.418044     -2.480091   \n",
       "6822      0.227527      0.280107      0.988918     -0.612045     -0.008527   \n",
       "6823     -3.426304     -3.328228     -2.321743     -2.369648     -1.656237   \n",
       "\n",
       "      rtPlayerRole  rjPlayerRole  rmPlayerRole  raPlayerRole  rsPlayerRole  \\\n",
       "0        -0.001432      0.401764     -0.109146      0.472371     -0.102518   \n",
       "1        -0.052322     -1.655595     -0.996363     -0.249744     -1.089556   \n",
       "2         0.993817      0.401764      0.023766      0.386875     -1.089556   \n",
       "3        -0.282888      0.454014     -0.029712      2.429016      0.008524   \n",
       "4        -0.364100     -0.360221     -0.296421     -0.327875     -0.357503   \n",
       "...            ...           ...           ...           ...           ...   \n",
       "6819      1.156767      1.044931     -0.527706      1.293455     -0.269656   \n",
       "6820     -0.547941      0.379993      0.007901      0.230538      1.137977   \n",
       "6821      1.011593      2.008463      0.115887      1.611182      0.818582   \n",
       "6822     -3.405834     -3.321076     -2.309632     -2.333225     -1.638595   \n",
       "6823      0.260542      0.300941      1.006293     -0.586778      0.008524   \n",
       "\n",
       "      ...  raPlayerChampion  rsPlayerChampion  bCoopPlayer  rCoopPlayer  \\\n",
       "0     ...          0.935151          0.706502     0.591416     0.150967   \n",
       "1     ...         -0.138737          0.847053    -0.181804    -0.824227   \n",
       "2     ...         -0.138737          0.853285    -0.095593    -0.556974   \n",
       "3     ...         -1.146527          0.853285     0.336589     1.653332   \n",
       "4     ...         -0.138737          0.847053     0.393932    -0.285475   \n",
       "...   ...               ...               ...          ...          ...   \n",
       "6819  ...         -0.872633         -0.037276    -1.159858     2.531199   \n",
       "6820  ...         -0.167247         -0.474963    -0.987215     0.016297   \n",
       "6821  ...         -0.737765          0.474952    -3.021457     1.778130   \n",
       "6822  ...          0.935151          0.853285     2.701949    -2.890947   \n",
       "6823  ...         -1.189678         -0.474963    -2.928991     2.729514   \n",
       "\n",
       "      bCoopChampion  rCoopChampion  vsPlayer  vsChampion  bTeamColor  \\\n",
       "0         -0.427561       1.361532  0.282831    0.413140    1.050299   \n",
       "1         -1.419230       0.368822 -1.585880   -0.253838   -0.687879   \n",
       "2          0.226590      -0.737584  0.517496    1.724576   -0.863766   \n",
       "3          0.334936      -0.031551 -0.789655    0.258088    0.181812   \n",
       "4          0.657723      -0.638672  1.876287    1.032190    0.341433   \n",
       "...             ...            ...       ...         ...         ...   \n",
       "6819       0.090155       7.045610 -1.083585   -1.007568   -2.165330   \n",
       "6820      -3.891613       0.973628 -1.540067   -0.890200   -1.163468   \n",
       "6821       0.486663       1.580895 -1.536764   -0.128647   -0.121646   \n",
       "6822       1.886652      -0.755647  1.534090    0.799276    1.211654   \n",
       "6823      -0.760380       0.628415 -1.624214   -0.446524   -3.603901   \n",
       "\n",
       "      rTeamColor  \n",
       "0       0.494876  \n",
       "1      -0.464691  \n",
       "2       0.169911  \n",
       "3      -0.204625  \n",
       "4      -0.254129  \n",
       "...          ...  \n",
       "6819    1.130880  \n",
       "6820    0.053257  \n",
       "6821    1.033188  \n",
       "6822   -3.567189  \n",
       "6823    1.219163  \n",
       "\n",
       "[6824 rows x 28 columns]>"
      ]
     },
     "execution_count": 18,
     "metadata": {},
     "output_type": "execute_result"
    }
   ],
   "source": [
    "X_train.count"
   ]
  },
  {
   "cell_type": "code",
   "execution_count": 20,
   "id": "64786997-f474-4d6d-868f-0ebb209c12aa",
   "metadata": {},
   "outputs": [],
   "source": [
    "gnb = GaussianNB()"
   ]
  },
  {
   "cell_type": "code",
   "execution_count": 22,
   "id": "d556f47d-3772-4231-a6eb-cb6a4427e4e2",
   "metadata": {},
   "outputs": [
    {
     "data": {
      "text/plain": [
       "dtype('float64')"
      ]
     },
     "execution_count": 22,
     "metadata": {},
     "output_type": "execute_result"
    }
   ],
   "source": [
    "y_train.dtypes"
   ]
  },
  {
   "cell_type": "code",
   "execution_count": 24,
   "id": "b6d2e158-f7b1-4bf5-bb31-56aab7a0a3d2",
   "metadata": {},
   "outputs": [
    {
     "data": {
      "text/plain": [
       "GaussianNB()"
      ]
     },
     "execution_count": 24,
     "metadata": {},
     "output_type": "execute_result"
    }
   ],
   "source": [
    "gnb.fit(X_train, y_train)"
   ]
  },
  {
   "cell_type": "code",
   "execution_count": 26,
   "id": "960b7c07-e870-4fec-abc8-6ca0379d8fa1",
   "metadata": {},
   "outputs": [
    {
     "data": {
      "text/plain": [
       "array([[1.09464730e-01, 8.90535270e-01],\n",
       "       [8.18111257e-01, 1.81888743e-01],\n",
       "       [4.15942302e-01, 5.84057698e-01],\n",
       "       ...,\n",
       "       [4.19597512e-04, 9.99580402e-01],\n",
       "       [9.18705834e-03, 9.90812942e-01],\n",
       "       [1.08917211e-04, 9.99891083e-01]])"
      ]
     },
     "execution_count": 26,
     "metadata": {},
     "output_type": "execute_result"
    }
   ],
   "source": [
    "# apparently the model must be fit prior to calling this\n",
    "priors = gnb.predict_proba(X_test)\n",
    "priors"
   ]
  },
  {
   "cell_type": "code",
   "execution_count": 28,
   "id": "29624708-9c2d-48f9-a31e-c6b4ab6502bd",
   "metadata": {},
   "outputs": [
    {
     "data": {
      "text/plain": [
       "0.6596306068601583"
      ]
     },
     "execution_count": 28,
     "metadata": {},
     "output_type": "execute_result"
    }
   ],
   "source": [
    "y_predict = gnb.predict(X_test)\n",
    "mean_accuracy = gnb.score(X_test, y_test)\n",
    "mean_accuracy"
   ]
  },
  {
   "cell_type": "code",
   "execution_count": 30,
   "id": "b3d14b77-bf22-45ec-b73c-030997832a95",
   "metadata": {},
   "outputs": [
    {
     "name": "stdout",
     "output_type": "stream",
     "text": [
      "0.6596306068601583\n"
     ]
    }
   ],
   "source": [
    "accuracy = accuracy_score(y_test, y_predict)\n",
    "print(accuracy)"
   ]
  },
  {
   "cell_type": "code",
   "execution_count": 32,
   "id": "82674cc7-ea64-455e-b9eb-511e4873d5a3",
   "metadata": {},
   "outputs": [
    {
     "data": {
      "text/plain": [
       "758"
      ]
     },
     "execution_count": 32,
     "metadata": {},
     "output_type": "execute_result"
    }
   ],
   "source": [
    "len(priors)"
   ]
  },
  {
   "cell_type": "code",
   "execution_count": 34,
   "id": "c451a149-4a2e-490c-bcc0-c95e6100fb1d",
   "metadata": {},
   "outputs": [],
   "source": [
    "# tenfold training\n",
    "rkf = RepeatedKFold(n_repeats=5, n_splits=10, random_state=3)"
   ]
  },
  {
   "cell_type": "code",
   "execution_count": 36,
   "id": "319efd3e-f3a6-4c37-93bf-224e07c5aee3",
   "metadata": {},
   "outputs": [],
   "source": [
    "import numpy as np"
   ]
  },
  {
   "cell_type": "code",
   "execution_count": 38,
   "id": "566b9551-ef3f-4bd3-b853-0e5e811fafe3",
   "metadata": {},
   "outputs": [],
   "source": [
    "X_array = X_train.to_numpy()\n",
    "y_array = y_train.to_numpy()"
   ]
  },
  {
   "cell_type": "code",
   "execution_count": 40,
   "id": "0e0fda83-c5c3-443e-8a42-126e98e5b139",
   "metadata": {},
   "outputs": [],
   "source": [
    "accuracies = []"
   ]
  },
  {
   "cell_type": "code",
   "execution_count": 42,
   "id": "37ce162b-7af2-4c3d-ad99-a301fb4e19bd",
   "metadata": {},
   "outputs": [],
   "source": [
    "best_probs = {'prob_blue': 0, 'prob_red': 0}"
   ]
  },
  {
   "cell_type": "code",
   "execution_count": 44,
   "id": "6c74dbed-6452-4b81-90be-39249020c50f",
   "metadata": {},
   "outputs": [],
   "source": [
    "best_accuracy = 0"
   ]
  },
  {
   "cell_type": "code",
   "execution_count": 46,
   "id": "4c1acdc8-4312-4986-ae2f-69908e778cb3",
   "metadata": {},
   "outputs": [
    {
     "name": "stdout",
     "output_type": "stream",
     "text": [
      "probability that blue wins: 0.548282038755903\n",
      "probability that red wins: 0.4517179612440971\n",
      "accuracy: 0.8184480234260615\n",
      "probability that blue wins: 0.5443738804754926\n",
      "probability that red wins: 0.45562611952450743\n",
      "accuracy: 0.7891654465592972\n",
      "probability that blue wins: 0.5474678391141508\n",
      "probability that red wins: 0.4525321608858492\n",
      "accuracy: 0.7862371888726208\n",
      "probability that blue wins: 0.5484448786842534\n",
      "probability that red wins: 0.4515551213157466\n",
      "accuracy: 0.8067349926793558\n",
      "probability that blue wins: 0.5488440247476392\n",
      "probability that red wins: 0.4511559752523608\n",
      "accuracy: 0.7683284457478006\n",
      "probability that blue wins: 0.5468902637577336\n",
      "probability that red wins: 0.45310973624226636\n",
      "accuracy: 0.7859237536656891\n",
      "probability that blue wins: 0.5444480625203517\n",
      "probability that red wins: 0.45555193747964834\n",
      "accuracy: 0.8225806451612904\n",
      "probability that blue wins: 0.549820905242592\n",
      "probability that red wins: 0.450179094757408\n",
      "accuracy: 0.7976539589442815\n",
      "probability that blue wins: 0.5420058612829697\n",
      "probability that red wins: 0.45799413871703026\n",
      "accuracy: 0.7903225806451613\n",
      "probability that blue wins: 0.5454249430153044\n",
      "probability that red wins: 0.4545750569846955\n",
      "accuracy: 0.781524926686217\n",
      "probability that blue wins: 0.5440482006187918\n",
      "probability that red wins: 0.4559517993812083\n",
      "accuracy: 0.8096632503660323\n",
      "probability that blue wins: 0.5492590783260055\n",
      "probability that red wins: 0.4507409216739945\n",
      "accuracy: 0.7979502196193266\n",
      "probability that blue wins: 0.5450252401888943\n",
      "probability that red wins: 0.4549747598111057\n",
      "accuracy: 0.7994143484626647\n",
      "probability that blue wins: 0.5450252401888943\n",
      "probability that red wins: 0.4549747598111057\n",
      "accuracy: 0.7730600292825769\n",
      "probability that blue wins: 0.5480299576685119\n",
      "probability that red wins: 0.45197004233148813\n",
      "accuracy: 0.7903225806451613\n",
      "probability that blue wins: 0.5483555845001629\n",
      "probability that red wins: 0.4516444154998372\n",
      "accuracy: 0.781524926686217\n",
      "probability that blue wins: 0.5470530771735591\n",
      "probability that red wins: 0.4529469228264409\n",
      "accuracy: 0.7932551319648093\n",
      "probability that blue wins: 0.5441224356887008\n",
      "probability that red wins: 0.4558775643112993\n",
      "accuracy: 0.7903225806451613\n",
      "probability that blue wins: 0.5467274503419082\n",
      "probability that red wins: 0.45327254965809183\n",
      "accuracy: 0.7741935483870968\n",
      "probability that blue wins: 0.5483555845001629\n",
      "probability that red wins: 0.4516444154998372\n",
      "accuracy: 0.8343108504398827\n",
      "probability that blue wins: 0.5458394398306464\n",
      "probability that red wins: 0.4541605601693535\n",
      "accuracy: 0.8155197657393851\n",
      "probability that blue wins: 0.5464907995440482\n",
      "probability that red wins: 0.4535092004559518\n",
      "accuracy: 0.7920937042459737\n",
      "probability that blue wins: 0.5479563588992021\n",
      "probability that red wins: 0.4520436411007979\n",
      "accuracy: 0.7920937042459737\n",
      "probability that blue wins: 0.5443738804754926\n",
      "probability that red wins: 0.45562611952450743\n",
      "accuracy: 0.7994143484626647\n",
      "probability that blue wins: 0.5460761966786063\n",
      "probability that red wins: 0.4539238033213937\n",
      "accuracy: 0.7536656891495601\n",
      "probability that blue wins: 0.5478671442526865\n",
      "probability that red wins: 0.4521328557473136\n",
      "accuracy: 0.8064516129032258\n",
      "probability that blue wins: 0.5460761966786063\n",
      "probability that red wins: 0.4539238033213937\n",
      "accuracy: 0.8093841642228738\n",
      "probability that blue wins: 0.5457505698469554\n",
      "probability that red wins: 0.4542494301530446\n",
      "accuracy: 0.7903225806451613\n",
      "probability that blue wins: 0.5491696515792901\n",
      "probability that red wins: 0.45083034842070985\n",
      "accuracy: 0.7859237536656891\n",
      "probability that blue wins: 0.5464018235102572\n",
      "probability that red wins: 0.45359817648974277\n",
      "accuracy: 0.7903225806451613\n",
      "probability that blue wins: 0.5474678391141508\n",
      "probability that red wins: 0.4525321608858492\n",
      "accuracy: 0.7833089311859444\n",
      "probability that blue wins: 0.5479563588992021\n",
      "probability that red wins: 0.4520436411007979\n",
      "accuracy: 0.8023426061493412\n",
      "probability that blue wins: 0.5440482006187918\n",
      "probability that red wins: 0.4559517993812083\n",
      "accuracy: 0.7745241581259151\n",
      "probability that blue wins: 0.5461651196873474\n",
      "probability that red wins: 0.4538348803126527\n",
      "accuracy: 0.8008784773060029\n",
      "probability that blue wins: 0.5446108759361772\n",
      "probability that red wins: 0.45538912406382287\n",
      "accuracy: 0.8269794721407625\n",
      "probability that blue wins: 0.547704330836861\n",
      "probability that red wins: 0.45229566916313907\n",
      "accuracy: 0.7741935483870968\n",
      "probability that blue wins: 0.5478671442526865\n",
      "probability that red wins: 0.4521328557473136\n",
      "accuracy: 0.7947214076246334\n",
      "probability that blue wins: 0.5468902637577336\n",
      "probability that red wins: 0.45310973624226636\n",
      "accuracy: 0.7903225806451613\n",
      "probability that blue wins: 0.54737870400521\n",
      "probability that red wins: 0.45262129599478995\n",
      "accuracy: 0.7785923753665689\n",
      "probability that blue wins: 0.5459133832627808\n",
      "probability that red wins: 0.4540866167372192\n",
      "accuracy: 0.8123167155425219\n",
      "probability that blue wins: 0.5448624002605439\n",
      "probability that red wins: 0.4551375997394561\n",
      "accuracy: 0.7950219619326501\n",
      "probability that blue wins: 0.5458394398306464\n",
      "probability that red wins: 0.4541605601693535\n",
      "accuracy: 0.7584187408491947\n",
      "probability that blue wins: 0.5469793193290995\n",
      "probability that red wins: 0.4530206806709005\n",
      "accuracy: 0.8038067349926794\n",
      "probability that blue wins: 0.546002279758997\n",
      "probability that red wins: 0.4539977202410031\n",
      "accuracy: 0.7906295754026355\n",
      "probability that blue wins: 0.5485183979159883\n",
      "probability that red wins: 0.4514816020840117\n",
      "accuracy: 0.8035190615835777\n",
      "probability that blue wins: 0.547704330836861\n",
      "probability that red wins: 0.45229566916313907\n",
      "accuracy: 0.7917888563049853\n",
      "probability that blue wins: 0.547704330836861\n",
      "probability that red wins: 0.45229566916313907\n",
      "accuracy: 0.8167155425219942\n",
      "probability that blue wins: 0.5446108759361772\n",
      "probability that red wins: 0.45538912406382287\n",
      "accuracy: 0.7932551319648093\n",
      "probability that blue wins: 0.54737870400521\n",
      "probability that red wins: 0.45262129599478995\n",
      "accuracy: 0.7903225806451613\n",
      "probability that blue wins: 0.5464018235102572\n",
      "probability that red wins: 0.45359817648974277\n",
      "accuracy: 0.7932551319648093\n"
     ]
    }
   ],
   "source": [
    "for train_index, test_index in rkf.split(X_train):\n",
    "    # print(f'    Train: index={train_index}')\n",
    "    # print(f'    Test: index={test_index}')\n",
    "    X_fold_train, X_fold_test = X_train.iloc[train_index], X_train.iloc[test_index]\n",
    "    y_fold_train, y_fold_test = y_train.iloc[train_index], y_train.iloc[test_index]\n",
    "    prob_blue = len([x for x in list(y_fold_train) if x == 1]) / len(list(y_fold_train))\n",
    "    prob_red = len([x for x in list(y_fold_train) if x == 0]) / len(list(y_fold_train))\n",
    "    print(f'probability that blue wins: {prob_blue}')\n",
    "    print(f'probability that red wins: {prob_red}')\n",
    "    model = GaussianNB()\n",
    "    model.fit(X_fold_train, y_fold_train)\n",
    "    fold_prediction = model.predict(X_fold_test)\n",
    "    accuracy = accuracy_score(y_fold_test, fold_prediction)\n",
    "    accuracies.append(accuracy)\n",
    "    print(f'accuracy: {accuracy}')\n",
    "    if accuracy > best_accuracy:\n",
    "        best_accuracy = accuracy\n",
    "        best_probs['prob_blue'] = prob_blue\n",
    "        best_probs['prob_red'] = prob_red"
   ]
  },
  {
   "cell_type": "code",
   "execution_count": 48,
   "id": "a66283db-e537-47e8-a3d1-d8170cd9dae7",
   "metadata": {},
   "outputs": [
    {
     "data": {
      "text/plain": [
       "[0.8184480234260615,\n",
       " 0.7891654465592972,\n",
       " 0.7862371888726208,\n",
       " 0.8067349926793558,\n",
       " 0.7683284457478006,\n",
       " 0.7859237536656891,\n",
       " 0.8225806451612904,\n",
       " 0.7976539589442815,\n",
       " 0.7903225806451613,\n",
       " 0.781524926686217,\n",
       " 0.8096632503660323,\n",
       " 0.7979502196193266,\n",
       " 0.7994143484626647,\n",
       " 0.7730600292825769,\n",
       " 0.7903225806451613,\n",
       " 0.781524926686217,\n",
       " 0.7932551319648093,\n",
       " 0.7903225806451613,\n",
       " 0.7741935483870968,\n",
       " 0.8343108504398827,\n",
       " 0.8155197657393851,\n",
       " 0.7920937042459737,\n",
       " 0.7920937042459737,\n",
       " 0.7994143484626647,\n",
       " 0.7536656891495601,\n",
       " 0.8064516129032258,\n",
       " 0.8093841642228738,\n",
       " 0.7903225806451613,\n",
       " 0.7859237536656891,\n",
       " 0.7903225806451613,\n",
       " 0.7833089311859444,\n",
       " 0.8023426061493412,\n",
       " 0.7745241581259151,\n",
       " 0.8008784773060029,\n",
       " 0.8269794721407625,\n",
       " 0.7741935483870968,\n",
       " 0.7947214076246334,\n",
       " 0.7903225806451613,\n",
       " 0.7785923753665689,\n",
       " 0.8123167155425219,\n",
       " 0.7950219619326501,\n",
       " 0.7584187408491947,\n",
       " 0.8038067349926794,\n",
       " 0.7906295754026355,\n",
       " 0.8035190615835777,\n",
       " 0.7917888563049853,\n",
       " 0.8167155425219942,\n",
       " 0.7932551319648093,\n",
       " 0.7903225806451613,\n",
       " 0.7932551319648093]"
      ]
     },
     "execution_count": 48,
     "metadata": {},
     "output_type": "execute_result"
    }
   ],
   "source": [
    "accuracies"
   ]
  },
  {
   "cell_type": "code",
   "execution_count": 50,
   "id": "095cab9e-ff57-48a4-acf0-bb35db1bd9d3",
   "metadata": {},
   "outputs": [
    {
     "data": {
      "text/plain": [
       "50"
      ]
     },
     "execution_count": 50,
     "metadata": {},
     "output_type": "execute_result"
    }
   ],
   "source": [
    "len(accuracies)"
   ]
  },
  {
   "cell_type": "code",
   "execution_count": 52,
   "id": "c52ce712-a361-4097-bbb2-ee634edc8ec6",
   "metadata": {},
   "outputs": [
    {
     "data": {
      "text/plain": [
       "0.7940208584689763"
      ]
     },
     "execution_count": 52,
     "metadata": {},
     "output_type": "execute_result"
    }
   ],
   "source": [
    "sum(accuracies) / 50"
   ]
  },
  {
   "cell_type": "code",
   "execution_count": 54,
   "id": "5645e67c-c2c4-47c6-871d-a965af2199ba",
   "metadata": {},
   "outputs": [
    {
     "data": {
      "text/plain": [
       "0.8343108504398827"
      ]
     },
     "execution_count": 54,
     "metadata": {},
     "output_type": "execute_result"
    }
   ],
   "source": [
    "best_accuracy"
   ]
  },
  {
   "cell_type": "code",
   "execution_count": 56,
   "id": "6d2f3d06-bb28-4f36-8b59-1282d7a10f1d",
   "metadata": {},
   "outputs": [
    {
     "data": {
      "text/plain": [
       "{'prob_blue': 0.5483555845001629, 'prob_red': 0.4516444154998372}"
      ]
     },
     "execution_count": 56,
     "metadata": {},
     "output_type": "execute_result"
    }
   ],
   "source": [
    "best_probs"
   ]
  },
  {
   "cell_type": "code",
   "execution_count": 58,
   "id": "41d0eb85-4a20-4e03-bc1b-6033959eaa57",
   "metadata": {},
   "outputs": [],
   "source": [
    "gnb = GaussianNB(priors=[best_probs['prob_red'], best_probs['prob_blue']])"
   ]
  },
  {
   "cell_type": "code",
   "execution_count": 60,
   "id": "15892a21-ef08-4b9d-aa92-a9b0a1503514",
   "metadata": {},
   "outputs": [
    {
     "data": {
      "text/plain": [
       "GaussianNB(priors=[0.4516444154998372, 0.5483555845001629])"
      ]
     },
     "execution_count": 60,
     "metadata": {},
     "output_type": "execute_result"
    }
   ],
   "source": [
    "gnb.fit(X_train, y_train)"
   ]
  },
  {
   "cell_type": "code",
   "execution_count": 62,
   "id": "f5b72f68-61b1-42c8-845f-6a0002268e9f",
   "metadata": {},
   "outputs": [],
   "source": [
    "tuned_prediction = gnb.predict(X_test)"
   ]
  },
  {
   "cell_type": "code",
   "execution_count": 64,
   "id": "3978111c-5d48-4f66-9535-2583359fd0f8",
   "metadata": {},
   "outputs": [
    {
     "data": {
      "text/plain": [
       "0.6596306068601583"
      ]
     },
     "execution_count": 64,
     "metadata": {},
     "output_type": "execute_result"
    }
   ],
   "source": [
    "accuracy_w_priors = accuracy_score(y_test, tuned_prediction)\n",
    "accuracy_w_priors"
   ]
  },
  {
   "cell_type": "code",
   "execution_count": null,
   "id": "735a999c-b514-4445-9802-edec2b4f79de",
   "metadata": {},
   "outputs": [],
   "source": []
  }
 ],
 "metadata": {
  "kernelspec": {
   "display_name": "Python 3 (ipykernel)",
   "language": "python",
   "name": "python3"
  },
  "language_info": {
   "codemirror_mode": {
    "name": "ipython",
    "version": 3
   },
   "file_extension": ".py",
   "mimetype": "text/x-python",
   "name": "python",
   "nbconvert_exporter": "python",
   "pygments_lexer": "ipython3",
   "version": "3.9.19"
  }
 },
 "nbformat": 4,
 "nbformat_minor": 5
}
