{
 "cells": [
  {
   "cell_type": "code",
   "execution_count": 8,
   "id": "0e9dff82-4b89-432f-9114-e6325816c989",
   "metadata": {},
   "outputs": [],
   "source": [
    "import pandas as pd\n",
    "from sklearn.naive_bayes import GaussianNB\n",
    "from sklearn.metrics import accuracy_score\n",
    "from sklearn.model_selection import train_test_split, RepeatedKFold"
   ]
  },
  {
   "cell_type": "code",
   "execution_count": 32,
   "id": "73108334-d102-470c-82f8-b9d17c4dd132",
   "metadata": {},
   "outputs": [],
   "source": [
    "# train_df = pd.read_csv('../feature_data/train/featureInput_noChampionRole_ZSCORED.csv')\n",
    "train_df = pd.read_csv('trial_train_data.csv')\n",
    "# test_df = pd.read_csv('../feature_data/test/featureInput_noChampionRole_ZSCORED.csv')\n",
    "test_df = pd.read_csv('trial_test_data.csv')"
   ]
  },
  {
   "cell_type": "code",
   "execution_count": 34,
   "id": "ff6293f1-4b06-4d9a-a762-a5d6aa785360",
   "metadata": {},
   "outputs": [
    {
     "data": {
      "text/html": [
       "<div>\n",
       "<style scoped>\n",
       "    .dataframe tbody tr th:only-of-type {\n",
       "        vertical-align: middle;\n",
       "    }\n",
       "\n",
       "    .dataframe tbody tr th {\n",
       "        vertical-align: top;\n",
       "    }\n",
       "\n",
       "    .dataframe thead th {\n",
       "        text-align: right;\n",
       "    }\n",
       "</style>\n",
       "<table border=\"1\" class=\"dataframe\">\n",
       "  <thead>\n",
       "    <tr style=\"text-align: right;\">\n",
       "      <th></th>\n",
       "      <th>Unnamed: 0</th>\n",
       "      <th>btPlayerRole</th>\n",
       "      <th>bjPlayerRole</th>\n",
       "      <th>bmPlayerRole</th>\n",
       "      <th>baPlayerRole</th>\n",
       "      <th>bsPlayerRole</th>\n",
       "      <th>rtPlayerRole</th>\n",
       "      <th>rjPlayerRole</th>\n",
       "      <th>rmPlayerRole</th>\n",
       "      <th>raPlayerRole</th>\n",
       "      <th>...</th>\n",
       "      <th>rsPlayerChampion</th>\n",
       "      <th>bCoopPlayer</th>\n",
       "      <th>rCoopPlayer</th>\n",
       "      <th>bCoopChampion</th>\n",
       "      <th>rCoopChampion</th>\n",
       "      <th>vsPlayer</th>\n",
       "      <th>vsChampion</th>\n",
       "      <th>bTeamColor</th>\n",
       "      <th>rTeamColor</th>\n",
       "      <th>bResult</th>\n",
       "    </tr>\n",
       "  </thead>\n",
       "  <tbody>\n",
       "    <tr>\n",
       "      <th>0</th>\n",
       "      <td>1</td>\n",
       "      <td>0.289738</td>\n",
       "      <td>-0.257036</td>\n",
       "      <td>1.060552</td>\n",
       "      <td>0.377305</td>\n",
       "      <td>0.278699</td>\n",
       "      <td>-0.133841</td>\n",
       "      <td>0.350029</td>\n",
       "      <td>-0.112189</td>\n",
       "      <td>0.713630</td>\n",
       "      <td>...</td>\n",
       "      <td>0.690359</td>\n",
       "      <td>0.441921</td>\n",
       "      <td>0.096551</td>\n",
       "      <td>0.134805</td>\n",
       "      <td>1.112304</td>\n",
       "      <td>-0.175703</td>\n",
       "      <td>0.510275</td>\n",
       "      <td>0.121245</td>\n",
       "      <td>-0.151772</td>\n",
       "      <td>1.0</td>\n",
       "    </tr>\n",
       "    <tr>\n",
       "      <th>1</th>\n",
       "      <td>2</td>\n",
       "      <td>-0.263885</td>\n",
       "      <td>-0.766333</td>\n",
       "      <td>-0.260659</td>\n",
       "      <td>-0.853495</td>\n",
       "      <td>-0.950215</td>\n",
       "      <td>-0.332546</td>\n",
       "      <td>3.260819</td>\n",
       "      <td>-1.208941</td>\n",
       "      <td>-0.316147</td>\n",
       "      <td>...</td>\n",
       "      <td>0.346412</td>\n",
       "      <td>-0.698948</td>\n",
       "      <td>-0.656359</td>\n",
       "      <td>-1.708774</td>\n",
       "      <td>0.131480</td>\n",
       "      <td>-1.581668</td>\n",
       "      <td>0.359287</td>\n",
       "      <td>-0.173614</td>\n",
       "      <td>2.230129</td>\n",
       "      <td>0.0</td>\n",
       "    </tr>\n",
       "    <tr>\n",
       "      <th>2</th>\n",
       "      <td>3</td>\n",
       "      <td>-0.358951</td>\n",
       "      <td>0.020762</td>\n",
       "      <td>0.699159</td>\n",
       "      <td>-0.409335</td>\n",
       "      <td>0.500586</td>\n",
       "      <td>0.974318</td>\n",
       "      <td>0.453523</td>\n",
       "      <td>0.311440</td>\n",
       "      <td>0.535215</td>\n",
       "      <td>...</td>\n",
       "      <td>0.870778</td>\n",
       "      <td>-0.171815</td>\n",
       "      <td>-0.720948</td>\n",
       "      <td>0.224274</td>\n",
       "      <td>-0.419115</td>\n",
       "      <td>0.677840</td>\n",
       "      <td>0.532583</td>\n",
       "      <td>1.890399</td>\n",
       "      <td>-1.884064</td>\n",
       "      <td>1.0</td>\n",
       "    </tr>\n",
       "  </tbody>\n",
       "</table>\n",
       "<p>3 rows × 30 columns</p>\n",
       "</div>"
      ],
      "text/plain": [
       "   Unnamed: 0  btPlayerRole  bjPlayerRole  bmPlayerRole  baPlayerRole  \\\n",
       "0           1      0.289738     -0.257036      1.060552      0.377305   \n",
       "1           2     -0.263885     -0.766333     -0.260659     -0.853495   \n",
       "2           3     -0.358951      0.020762      0.699159     -0.409335   \n",
       "\n",
       "   bsPlayerRole  rtPlayerRole  rjPlayerRole  rmPlayerRole  raPlayerRole  ...  \\\n",
       "0      0.278699     -0.133841      0.350029     -0.112189      0.713630  ...   \n",
       "1     -0.950215     -0.332546      3.260819     -1.208941     -0.316147  ...   \n",
       "2      0.500586      0.974318      0.453523      0.311440      0.535215  ...   \n",
       "\n",
       "   rsPlayerChampion  bCoopPlayer  rCoopPlayer  bCoopChampion  rCoopChampion  \\\n",
       "0          0.690359     0.441921     0.096551       0.134805       1.112304   \n",
       "1          0.346412    -0.698948    -0.656359      -1.708774       0.131480   \n",
       "2          0.870778    -0.171815    -0.720948       0.224274      -0.419115   \n",
       "\n",
       "   vsPlayer  vsChampion  bTeamColor  rTeamColor  bResult  \n",
       "0 -0.175703    0.510275    0.121245   -0.151772      1.0  \n",
       "1 -1.581668    0.359287   -0.173614    2.230129      0.0  \n",
       "2  0.677840    0.532583    1.890399   -1.884064      1.0  \n",
       "\n",
       "[3 rows x 30 columns]"
      ]
     },
     "execution_count": 34,
     "metadata": {},
     "output_type": "execute_result"
    }
   ],
   "source": [
    "train_df.head(3)"
   ]
  },
  {
   "cell_type": "code",
   "execution_count": 36,
   "id": "fda2181c-0ed0-4f53-b8bc-ba17ba1c9ed3",
   "metadata": {},
   "outputs": [],
   "source": [
    "# drop_cols = list(train_df.filter(regex='ChampionRole$').columns)\n",
    "drop_cols = ['Unnamed: 0']"
   ]
  },
  {
   "cell_type": "code",
   "execution_count": 38,
   "id": "02fd7e4b-e418-40f6-a7dd-3692fb5e2e54",
   "metadata": {},
   "outputs": [
    {
     "data": {
      "text/plain": [
       "Index(['btPlayerRole', 'bjPlayerRole', 'bmPlayerRole', 'baPlayerRole',\n",
       "       'bsPlayerRole', 'rtPlayerRole', 'rjPlayerRole', 'rmPlayerRole',\n",
       "       'raPlayerRole', 'rsPlayerRole', 'btPlayerChampion', 'bjPlayerChampion',\n",
       "       'bmPlayerChampion', 'baPlayerChampion', 'bsPlayerChampion',\n",
       "       'rtPlayerChampion', 'rjPlayerChampion', 'rmPlayerChampion',\n",
       "       'raPlayerChampion', 'rsPlayerChampion', 'bCoopPlayer', 'rCoopPlayer',\n",
       "       'bCoopChampion', 'rCoopChampion', 'vsPlayer', 'vsChampion',\n",
       "       'bTeamColor', 'rTeamColor', 'bResult'],\n",
       "      dtype='object')"
      ]
     },
     "execution_count": 38,
     "metadata": {},
     "output_type": "execute_result"
    }
   ],
   "source": [
    "train_df = train_df.drop(drop_cols, axis=1)\n",
    "train_df.columns"
   ]
  },
  {
   "cell_type": "code",
   "execution_count": 40,
   "id": "cee7e815-ec87-4ac6-a688-5882cac62601",
   "metadata": {},
   "outputs": [
    {
     "data": {
      "text/plain": [
       "29"
      ]
     },
     "execution_count": 40,
     "metadata": {},
     "output_type": "execute_result"
    }
   ],
   "source": [
    "len(list(train_df.columns))"
   ]
  },
  {
   "cell_type": "code",
   "execution_count": 42,
   "id": "e73e6d74-5a12-4649-b580-33eea11ff9fc",
   "metadata": {},
   "outputs": [
    {
     "data": {
      "text/plain": [
       "29"
      ]
     },
     "execution_count": 42,
     "metadata": {},
     "output_type": "execute_result"
    }
   ],
   "source": [
    "test_df = test_df.drop(drop_cols, axis=1)\n",
    "len(list(test_df.columns))"
   ]
  },
  {
   "cell_type": "code",
   "execution_count": 44,
   "id": "099a8386-84e8-445d-a884-d97f253e2ace",
   "metadata": {},
   "outputs": [],
   "source": [
    "y_train = train_df.loc[:, 'bResult']\n",
    "X_train = train_df.loc[:, train_df.columns != 'bResult']\n",
    "y_test = test_df.loc[:, 'bResult']\n",
    "X_test = test_df.loc[:, test_df.columns != 'bResult']"
   ]
  },
  {
   "cell_type": "code",
   "execution_count": 17,
   "id": "b452c077-03c4-4fe5-87bc-751cdffbacbc",
   "metadata": {},
   "outputs": [
    {
     "data": {
      "text/plain": [
       "<bound method DataFrame.count of       btPlayerRole  bjPlayerRole  bmPlayerRole  baPlayerRole  bsPlayerRole  \\\n",
       "0         0.252250     -0.113933      1.010727      0.434609      0.245249   \n",
       "1         0.107836     -0.258477      0.248977     -0.715370     -0.487638   \n",
       "2        -0.363338      0.955698      0.776230     -0.188098      1.248147   \n",
       "3         0.178569      0.045067     -0.025138     -0.175134      0.548104   \n",
       "4         2.831061      0.661353      0.758049      1.205383      0.490318   \n",
       "...            ...           ...           ...           ...           ...   \n",
       "6818      0.920830      0.753336     -1.787310     -0.131543     -0.857938   \n",
       "6819     -0.263513     -1.270290     -1.278238     -3.327397     -0.055620   \n",
       "6820     -1.650736     -0.308239     -3.314526     -3.327397     -1.760546   \n",
       "6821     -0.156803     -0.258477      1.466323     -0.953493      0.345539   \n",
       "6822     -3.358087     -3.293916     -2.805454     -2.816349     -2.061415   \n",
       "\n",
       "      rtPlayerRole  rjPlayerRole  rmPlayerRole  raPlayerRole  rsPlayerRole  \\\n",
       "0         0.160813      0.366454      0.119546      0.858685      0.036595   \n",
       "1         0.034632      0.263361     -0.826679      0.262123     -1.356785   \n",
       "2         1.081633      0.469547      0.290217      0.775167     -2.793981   \n",
       "3        -0.455182      0.649960     -0.301999      3.340383      0.035027   \n",
       "4        -0.671590     -0.664476     -0.965114     -1.277006     -0.656151   \n",
       "...            ...           ...           ...           ...           ...   \n",
       "6818      1.030290      1.316225     -0.458008      1.121173     -0.330216   \n",
       "6819     -0.141546      0.128892      1.282805     -0.113274      0.507686   \n",
       "6820      1.382574      3.356151      0.698930      1.946454      0.463664   \n",
       "6821     -2.859722     -2.829429     -1.132314     -1.137085     -0.757953   \n",
       "6822      0.747088      0.666768      0.479977     -1.084615     -0.350747   \n",
       "\n",
       "      ...  raPlayerChampion  rsPlayerChampion  bCoopPlayer  rCoopPlayer  \\\n",
       "0     ...          0.133663         -1.850269     0.366567     0.175634   \n",
       "1     ...          0.179959          0.263562    -0.418938    -0.767054   \n",
       "2     ...          0.545983         -1.850269    -0.093366    -0.831687   \n",
       "3     ...          2.043355          0.352566     0.180842     1.994147   \n",
       "4     ...         -1.949637         -1.850269     0.571416    -0.580424   \n",
       "...   ...               ...               ...          ...          ...   \n",
       "6818  ...          2.043355          0.867514    -1.225845     2.509258   \n",
       "6819  ...          0.046859          0.052179    -1.776628     0.014059   \n",
       "6820  ...          1.244757          0.052179    -3.018394     1.778606   \n",
       "6821  ...         -1.949637         -1.850269     2.703377    -2.872672   \n",
       "6822  ...          0.046859         -0.159204    -2.913898     2.719335   \n",
       "\n",
       "      vsPlayer  bCoopChampion  rCoopChampion  vsChampion  bTeamColor  \\\n",
       "0     0.127328      -0.187979       1.213948   -0.206860    1.103748   \n",
       "1    -1.588838      -1.739330       0.131607   -1.303218   -0.459587   \n",
       "2     1.020567      -0.054209      -0.383016    1.589459    0.383076   \n",
       "3    -0.891270       0.085977       0.350546    0.363845   -0.198505   \n",
       "4     1.764771       0.582467      -1.015214    0.256906    0.451749   \n",
       "...        ...            ...            ...         ...         ...   \n",
       "6818 -1.339344       0.489592       6.937561   -3.878535   -1.951803   \n",
       "6819 -1.724257      -3.298882       1.083780   -2.863525   -0.385109   \n",
       "6820 -1.531925       0.982086       1.374049    0.228457   -0.391630   \n",
       "6821  1.539452       1.771786      -1.070287    1.127976    1.415206   \n",
       "6822 -1.594528      -0.927171       1.351576   -0.893155   -3.619573   \n",
       "\n",
       "      rTeamColor  \n",
       "0       0.920580  \n",
       "1      -0.379011  \n",
       "2       1.106054  \n",
       "3      -0.502067  \n",
       "4      -0.436405  \n",
       "...          ...  \n",
       "6818    1.618914  \n",
       "6819    0.002692  \n",
       "6820    1.339554  \n",
       "6821   -3.019126  \n",
       "6822    1.265271  \n",
       "\n",
       "[6823 rows x 28 columns]>"
      ]
     },
     "execution_count": 17,
     "metadata": {},
     "output_type": "execute_result"
    }
   ],
   "source": [
    "X_train.count"
   ]
  },
  {
   "cell_type": "code",
   "execution_count": 46,
   "id": "64786997-f474-4d6d-868f-0ebb209c12aa",
   "metadata": {},
   "outputs": [],
   "source": [
    "gnb = GaussianNB()"
   ]
  },
  {
   "cell_type": "code",
   "execution_count": 48,
   "id": "d556f47d-3772-4231-a6eb-cb6a4427e4e2",
   "metadata": {},
   "outputs": [
    {
     "data": {
      "text/plain": [
       "dtype('float64')"
      ]
     },
     "execution_count": 48,
     "metadata": {},
     "output_type": "execute_result"
    }
   ],
   "source": [
    "y_train.dtypes"
   ]
  },
  {
   "cell_type": "code",
   "execution_count": 50,
   "id": "b6d2e158-f7b1-4bf5-bb31-56aab7a0a3d2",
   "metadata": {},
   "outputs": [
    {
     "data": {
      "text/plain": [
       "GaussianNB()"
      ]
     },
     "execution_count": 50,
     "metadata": {},
     "output_type": "execute_result"
    }
   ],
   "source": [
    "gnb.fit(X_train, y_train)"
   ]
  },
  {
   "cell_type": "code",
   "execution_count": 52,
   "id": "960b7c07-e870-4fec-abc8-6ca0379d8fa1",
   "metadata": {},
   "outputs": [
    {
     "data": {
      "text/plain": [
       "array([[2.12630756e-02, 9.78736924e-01],\n",
       "       [9.24459024e-04, 9.99075541e-01],\n",
       "       [2.95721037e-03, 9.97042790e-01],\n",
       "       ...,\n",
       "       [4.18566493e-02, 9.58143351e-01],\n",
       "       [7.02206701e-01, 2.97793299e-01],\n",
       "       [8.89990494e-01, 1.10009506e-01]])"
      ]
     },
     "execution_count": 52,
     "metadata": {},
     "output_type": "execute_result"
    }
   ],
   "source": [
    "# apparently the model must be fit prior to calling this\n",
    "priors = gnb.predict_proba(X_test)\n",
    "priors"
   ]
  },
  {
   "cell_type": "code",
   "execution_count": 54,
   "id": "29624708-9c2d-48f9-a31e-c6b4ab6502bd",
   "metadata": {},
   "outputs": [
    {
     "data": {
      "text/plain": [
       "0.6569920844327177"
      ]
     },
     "execution_count": 54,
     "metadata": {},
     "output_type": "execute_result"
    }
   ],
   "source": [
    "y_predict = gnb.predict(X_test)\n",
    "mean_accuracy = gnb.score(X_test, y_test)\n",
    "mean_accuracy"
   ]
  },
  {
   "cell_type": "code",
   "execution_count": 56,
   "id": "b3d14b77-bf22-45ec-b73c-030997832a95",
   "metadata": {},
   "outputs": [
    {
     "name": "stdout",
     "output_type": "stream",
     "text": [
      "0.6569920844327177\n"
     ]
    }
   ],
   "source": [
    "accuracy = accuracy_score(y_test, y_predict)\n",
    "print(accuracy)"
   ]
  },
  {
   "cell_type": "code",
   "execution_count": 29,
   "id": "82674cc7-ea64-455e-b9eb-511e4873d5a3",
   "metadata": {},
   "outputs": [
    {
     "data": {
      "text/plain": [
       "759"
      ]
     },
     "execution_count": 29,
     "metadata": {},
     "output_type": "execute_result"
    }
   ],
   "source": [
    "len(priors)"
   ]
  },
  {
   "cell_type": "code",
   "execution_count": 58,
   "id": "c451a149-4a2e-490c-bcc0-c95e6100fb1d",
   "metadata": {},
   "outputs": [],
   "source": [
    "# tenfold training\n",
    "rkf = RepeatedKFold(n_repeats=5, n_splits=10, random_state=3)"
   ]
  },
  {
   "cell_type": "code",
   "execution_count": 60,
   "id": "319efd3e-f3a6-4c37-93bf-224e07c5aee3",
   "metadata": {},
   "outputs": [],
   "source": [
    "import numpy as np"
   ]
  },
  {
   "cell_type": "code",
   "execution_count": 62,
   "id": "566b9551-ef3f-4bd3-b853-0e5e811fafe3",
   "metadata": {},
   "outputs": [],
   "source": [
    "X_array = X_train.to_numpy()\n",
    "y_array = y_train.to_numpy()"
   ]
  },
  {
   "cell_type": "code",
   "execution_count": 64,
   "id": "0e0fda83-c5c3-443e-8a42-126e98e5b139",
   "metadata": {},
   "outputs": [],
   "source": [
    "accuracies = []"
   ]
  },
  {
   "cell_type": "code",
   "execution_count": 66,
   "id": "37ce162b-7af2-4c3d-ad99-a301fb4e19bd",
   "metadata": {},
   "outputs": [],
   "source": [
    "best_probs = {'prob_blue': 0, 'prob_red': 0}"
   ]
  },
  {
   "cell_type": "code",
   "execution_count": 68,
   "id": "6c74dbed-6452-4b81-90be-39249020c50f",
   "metadata": {},
   "outputs": [],
   "source": [
    "best_accuracy = 0"
   ]
  },
  {
   "cell_type": "code",
   "execution_count": 70,
   "id": "4c1acdc8-4312-4986-ae2f-69908e778cb3",
   "metadata": {},
   "outputs": [
    {
     "name": "stdout",
     "output_type": "stream",
     "text": [
      "probability that blue wins: 0.5386744829832275\n",
      "probability that red wins: 0.4613255170167725\n",
      "accuracy: 0.828696925329429\n",
      "probability that blue wins: 0.53965152255333\n",
      "probability that red wins: 0.4603484774466699\n",
      "accuracy: 0.8125915080527086\n",
      "probability that blue wins: 0.5430711610486891\n",
      "probability that red wins: 0.45692883895131087\n",
      "accuracy: 0.8257686676427526\n",
      "probability that blue wins: 0.5420941214785866\n",
      "probability that red wins: 0.45790587852141346\n",
      "accuracy: 0.8228404099560761\n",
      "probability that blue wins: 0.5421686746987951\n",
      "probability that red wins: 0.4578313253012048\n",
      "accuracy: 0.843108504398827\n",
      "probability that blue wins: 0.5437968088570498\n",
      "probability that red wins: 0.45620319114295016\n",
      "accuracy: 0.8167155425219942\n",
      "probability that blue wins: 0.5411917942038424\n",
      "probability that red wins: 0.4588082057961576\n",
      "accuracy: 0.8328445747800587\n",
      "probability that blue wins: 0.5424943015304461\n",
      "probability that red wins: 0.4575056984695539\n",
      "accuracy: 0.8152492668621701\n",
      "probability that blue wins: 0.5441224356887008\n",
      "probability that red wins: 0.4558775643112993\n",
      "accuracy: 0.7976539589442815\n",
      "probability that blue wins: 0.5433083686095734\n",
      "probability that red wins: 0.45669163139042657\n",
      "accuracy: 0.843108504398827\n",
      "probability that blue wins: 0.5417684416218856\n",
      "probability that red wins: 0.4582315583781143\n",
      "accuracy: 0.8272327964860908\n",
      "probability that blue wins: 0.5446995603321935\n",
      "probability that red wins: 0.45530043966780653\n",
      "accuracy: 0.8184480234260615\n",
      "probability that blue wins: 0.542256961406937\n",
      "probability that red wins: 0.45774303859306303\n",
      "accuracy: 0.8111273792093704\n",
      "probability that blue wins: 0.53965152255333\n",
      "probability that red wins: 0.4603484774466699\n",
      "accuracy: 0.8155197657393851\n",
      "probability that blue wins: 0.5403777271247151\n",
      "probability that red wins: 0.4596222728752849\n",
      "accuracy: 0.8284457478005866\n",
      "probability that blue wins: 0.5434711820253989\n",
      "probability that red wins: 0.4565288179746011\n",
      "accuracy: 0.8357771260997068\n",
      "probability that blue wins: 0.542819928362097\n",
      "probability that red wins: 0.457180071637903\n",
      "accuracy: 0.8181818181818182\n",
      "probability that blue wins: 0.5444480625203517\n",
      "probability that red wins: 0.45555193747964834\n",
      "accuracy: 0.8372434017595308\n",
      "probability that blue wins: 0.5400521002930642\n",
      "probability that red wins: 0.45994789970693584\n",
      "accuracy: 0.8328445747800587\n",
      "probability that blue wins: 0.541028980788017\n",
      "probability that red wins: 0.4589710192119831\n",
      "accuracy: 0.8108504398826979\n",
      "probability that blue wins: 0.5425826412636379\n",
      "probability that red wins: 0.45741735873636213\n",
      "accuracy: 0.8506588579795022\n",
      "probability that blue wins: 0.5412799218368344\n",
      "probability that red wins: 0.4587200781631656\n",
      "accuracy: 0.8301610541727672\n",
      "probability that blue wins: 0.5424198013352874\n",
      "probability that red wins: 0.4575801986647126\n",
      "accuracy: 0.8228404099560761\n",
      "probability that blue wins: 0.5437225207620908\n",
      "probability that red wins: 0.4562774792379091\n",
      "accuracy: 0.7935578330893118\n",
      "probability that blue wins: 0.5433083686095734\n",
      "probability that red wins: 0.45669163139042657\n",
      "accuracy: 0.8108504398826979\n",
      "probability that blue wins: 0.5449365027678281\n",
      "probability that red wins: 0.45506349723217193\n",
      "accuracy: 0.8181818181818182\n",
      "probability that blue wins: 0.538261152718984\n",
      "probability that red wins: 0.46173884728101594\n",
      "accuracy: 0.8548387096774194\n",
      "probability that blue wins: 0.5418430478671442\n",
      "probability that red wins: 0.45815695213285573\n",
      "accuracy: 0.8167155425219942\n",
      "probability that blue wins: 0.5392380332139368\n",
      "probability that red wins: 0.4607619667860632\n",
      "accuracy: 0.8167155425219942\n",
      "probability that blue wins: 0.5429827417779225\n",
      "probability that red wins: 0.4570172582220775\n",
      "accuracy: 0.8240469208211144\n",
      "probability that blue wins: 0.544536720403843\n",
      "probability that red wins: 0.45546327959615696\n",
      "accuracy: 0.8184480234260615\n",
      "probability that blue wins: 0.5404657221950823\n",
      "probability that red wins: 0.4595342778049178\n",
      "accuracy: 0.8038067349926794\n",
      "probability that blue wins: 0.5424198013352874\n",
      "probability that red wins: 0.4575801986647126\n",
      "accuracy: 0.8272327964860908\n",
      "probability that blue wins: 0.5432340009770396\n",
      "probability that red wins: 0.45676599902296044\n",
      "accuracy: 0.8272327964860908\n",
      "probability that blue wins: 0.540703353956366\n",
      "probability that red wins: 0.459296646043634\n",
      "accuracy: 0.8181818181818182\n",
      "probability that blue wins: 0.5411917942038424\n",
      "probability that red wins: 0.4588082057961576\n",
      "accuracy: 0.8548387096774194\n",
      "probability that blue wins: 0.5403777271247151\n",
      "probability that red wins: 0.4596222728752849\n",
      "accuracy: 0.8284457478005866\n",
      "probability that blue wins: 0.5416802344513187\n",
      "probability that red wins: 0.4583197655486812\n",
      "accuracy: 0.8211143695014663\n",
      "probability that blue wins: 0.5437968088570498\n",
      "probability that red wins: 0.45620319114295016\n",
      "accuracy: 0.8123167155425219\n",
      "probability that blue wins: 0.5421686746987951\n",
      "probability that red wins: 0.4578313253012048\n",
      "accuracy: 0.8211143695014663\n",
      "probability that blue wins: 0.5424198013352874\n",
      "probability that red wins: 0.4575801986647126\n",
      "accuracy: 0.8140556368960469\n",
      "probability that blue wins: 0.5414427617651848\n",
      "probability that red wins: 0.4585572382348152\n",
      "accuracy: 0.8125915080527086\n",
      "probability that blue wins: 0.5424198013352874\n",
      "probability that red wins: 0.4575801986647126\n",
      "accuracy: 0.7994143484626647\n",
      "probability that blue wins: 0.5425826412636379\n",
      "probability that red wins: 0.45741735873636213\n",
      "accuracy: 0.8594436310395315\n",
      "probability that blue wins: 0.5385867795506349\n",
      "probability that red wins: 0.461413220449365\n",
      "accuracy: 0.8152492668621701\n",
      "probability that blue wins: 0.5397264734614132\n",
      "probability that red wins: 0.4602735265385868\n",
      "accuracy: 0.8269794721407625\n",
      "probability that blue wins: 0.5462390100944318\n",
      "probability that red wins: 0.45376098990556823\n",
      "accuracy: 0.8284457478005866\n",
      "probability that blue wins: 0.5423314881146206\n",
      "probability that red wins: 0.4576685118853794\n",
      "accuracy: 0.8284457478005866\n",
      "probability that blue wins: 0.542819928362097\n",
      "probability that red wins: 0.457180071637903\n",
      "accuracy: 0.8284457478005866\n",
      "probability that blue wins: 0.5420058612829697\n",
      "probability that red wins: 0.45799413871703026\n",
      "accuracy: 0.8123167155425219\n"
     ]
    }
   ],
   "source": [
    "for train_index, test_index in rkf.split(X_train):\n",
    "    # print(f'    Train: index={train_index}')\n",
    "    # print(f'    Test: index={test_index}')\n",
    "    X_fold_train, X_fold_test = X_train.iloc[train_index], X_train.iloc[test_index]\n",
    "    y_fold_train, y_fold_test = y_train.iloc[train_index], y_train.iloc[test_index]\n",
    "    prob_blue = len([x for x in list(y_fold_train) if x == 1]) / len(list(y_fold_train))\n",
    "    prob_red = len([x for x in list(y_fold_train) if x == 0]) / len(list(y_fold_train))\n",
    "    print(f'probability that blue wins: {prob_blue}')\n",
    "    print(f'probability that red wins: {prob_red}')\n",
    "    model = GaussianNB()\n",
    "    model.fit(X_fold_train, y_fold_train)\n",
    "    fold_prediction = model.predict(X_fold_test)\n",
    "    accuracy = accuracy_score(y_fold_test, fold_prediction)\n",
    "    accuracies.append(accuracy)\n",
    "    print(f'accuracy: {accuracy}')\n",
    "    if accuracy > best_accuracy:\n",
    "        best_accuracy = accuracy\n",
    "        best_probs['prob_blue'] = prob_blue\n",
    "        best_probs['prob_red'] = prob_red"
   ]
  },
  {
   "cell_type": "code",
   "execution_count": 72,
   "id": "a66283db-e537-47e8-a3d1-d8170cd9dae7",
   "metadata": {},
   "outputs": [
    {
     "data": {
      "text/plain": [
       "[0.828696925329429,\n",
       " 0.8125915080527086,\n",
       " 0.8257686676427526,\n",
       " 0.8228404099560761,\n",
       " 0.843108504398827,\n",
       " 0.8167155425219942,\n",
       " 0.8328445747800587,\n",
       " 0.8152492668621701,\n",
       " 0.7976539589442815,\n",
       " 0.843108504398827,\n",
       " 0.8272327964860908,\n",
       " 0.8184480234260615,\n",
       " 0.8111273792093704,\n",
       " 0.8155197657393851,\n",
       " 0.8284457478005866,\n",
       " 0.8357771260997068,\n",
       " 0.8181818181818182,\n",
       " 0.8372434017595308,\n",
       " 0.8328445747800587,\n",
       " 0.8108504398826979,\n",
       " 0.8506588579795022,\n",
       " 0.8301610541727672,\n",
       " 0.8228404099560761,\n",
       " 0.7935578330893118,\n",
       " 0.8108504398826979,\n",
       " 0.8181818181818182,\n",
       " 0.8548387096774194,\n",
       " 0.8167155425219942,\n",
       " 0.8167155425219942,\n",
       " 0.8240469208211144,\n",
       " 0.8184480234260615,\n",
       " 0.8038067349926794,\n",
       " 0.8272327964860908,\n",
       " 0.8272327964860908,\n",
       " 0.8181818181818182,\n",
       " 0.8548387096774194,\n",
       " 0.8284457478005866,\n",
       " 0.8211143695014663,\n",
       " 0.8123167155425219,\n",
       " 0.8211143695014663,\n",
       " 0.8140556368960469,\n",
       " 0.8125915080527086,\n",
       " 0.7994143484626647,\n",
       " 0.8594436310395315,\n",
       " 0.8152492668621701,\n",
       " 0.8269794721407625,\n",
       " 0.8284457478005866,\n",
       " 0.8284457478005866,\n",
       " 0.8284457478005866,\n",
       " 0.8123167155425219]"
      ]
     },
     "execution_count": 72,
     "metadata": {},
     "output_type": "execute_result"
    }
   ],
   "source": [
    "accuracies"
   ]
  },
  {
   "cell_type": "code",
   "execution_count": 74,
   "id": "095cab9e-ff57-48a4-acf0-bb35db1bd9d3",
   "metadata": {},
   "outputs": [
    {
     "data": {
      "text/plain": [
       "50"
      ]
     },
     "execution_count": 74,
     "metadata": {},
     "output_type": "execute_result"
    }
   ],
   "source": [
    "len(accuracies)"
   ]
  },
  {
   "cell_type": "code",
   "execution_count": 76,
   "id": "c52ce712-a361-4097-bbb2-ee634edc8ec6",
   "metadata": {},
   "outputs": [
    {
     "data": {
      "text/plain": [
       "0.8234187193810298"
      ]
     },
     "execution_count": 76,
     "metadata": {},
     "output_type": "execute_result"
    }
   ],
   "source": [
    "sum(accuracies) / 50"
   ]
  },
  {
   "cell_type": "code",
   "execution_count": 78,
   "id": "5645e67c-c2c4-47c6-871d-a965af2199ba",
   "metadata": {},
   "outputs": [
    {
     "data": {
      "text/plain": [
       "0.8594436310395315"
      ]
     },
     "execution_count": 78,
     "metadata": {},
     "output_type": "execute_result"
    }
   ],
   "source": [
    "best_accuracy"
   ]
  },
  {
   "cell_type": "code",
   "execution_count": 80,
   "id": "6d2f3d06-bb28-4f36-8b59-1282d7a10f1d",
   "metadata": {},
   "outputs": [
    {
     "data": {
      "text/plain": [
       "{'prob_blue': 0.5425826412636379, 'prob_red': 0.45741735873636213}"
      ]
     },
     "execution_count": 80,
     "metadata": {},
     "output_type": "execute_result"
    }
   ],
   "source": [
    "best_probs"
   ]
  },
  {
   "cell_type": "code",
   "execution_count": 82,
   "id": "41d0eb85-4a20-4e03-bc1b-6033959eaa57",
   "metadata": {},
   "outputs": [],
   "source": [
    "gnb = GaussianNB(priors=[best_probs['prob_red'], best_probs['prob_blue']])"
   ]
  },
  {
   "cell_type": "code",
   "execution_count": 84,
   "id": "15892a21-ef08-4b9d-aa92-a9b0a1503514",
   "metadata": {},
   "outputs": [
    {
     "data": {
      "text/plain": [
       "GaussianNB(priors=[0.45741735873636213, 0.5425826412636379])"
      ]
     },
     "execution_count": 84,
     "metadata": {},
     "output_type": "execute_result"
    }
   ],
   "source": [
    "gnb.fit(X_train, y_train)"
   ]
  },
  {
   "cell_type": "code",
   "execution_count": 86,
   "id": "f5b72f68-61b1-42c8-845f-6a0002268e9f",
   "metadata": {},
   "outputs": [],
   "source": [
    "tuned_prediction = gnb.predict(X_test)"
   ]
  },
  {
   "cell_type": "code",
   "execution_count": 88,
   "id": "3978111c-5d48-4f66-9535-2583359fd0f8",
   "metadata": {},
   "outputs": [
    {
     "data": {
      "text/plain": [
       "0.6569920844327177"
      ]
     },
     "execution_count": 88,
     "metadata": {},
     "output_type": "execute_result"
    }
   ],
   "source": [
    "accuracy_w_priors = accuracy_score(y_test, tuned_prediction)\n",
    "accuracy_w_priors"
   ]
  },
  {
   "cell_type": "code",
   "execution_count": null,
   "id": "735a999c-b514-4445-9802-edec2b4f79de",
   "metadata": {},
   "outputs": [],
   "source": []
  }
 ],
 "metadata": {
  "kernelspec": {
   "display_name": "Python 3 (ipykernel)",
   "language": "python",
   "name": "python3"
  },
  "language_info": {
   "codemirror_mode": {
    "name": "ipython",
    "version": 3
   },
   "file_extension": ".py",
   "mimetype": "text/x-python",
   "name": "python",
   "nbconvert_exporter": "python",
   "pygments_lexer": "ipython3",
   "version": "3.9.19"
  }
 },
 "nbformat": 4,
 "nbformat_minor": 5
}
