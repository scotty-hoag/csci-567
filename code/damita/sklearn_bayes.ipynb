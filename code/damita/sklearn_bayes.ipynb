{
 "cells": [
  {
   "cell_type": "code",
   "execution_count": 129,
   "id": "0e9dff82-4b89-432f-9114-e6325816c989",
   "metadata": {},
   "outputs": [],
   "source": [
    "import pandas as pd\n",
    "from sklearn.naive_bayes import GaussianNB\n",
    "from sklearn.metrics import accuracy_score\n",
    "from sklearn.model_selection import train_test_split, RepeatedKFold"
   ]
  },
  {
   "cell_type": "code",
   "execution_count": 133,
   "id": "73108334-d102-470c-82f8-b9d17c4dd132",
   "metadata": {},
   "outputs": [],
   "source": [
    "train_df = pd.read_csv('../../feature_data/train/featureInput_noChampionRole_ZSCORED.csv')\n",
    "# train_df = pd.read_csv('train_update.csv')\n",
    "test_df = pd.read_csv('../../feature_data/test/featureInput_noChampionRole_ZSCORED.csv')\n",
    "# test_df = pd.read_csv('test_update.csv')"
   ]
  },
  {
   "cell_type": "code",
   "execution_count": 135,
   "id": "ff6293f1-4b06-4d9a-a762-a5d6aa785360",
   "metadata": {},
   "outputs": [
    {
     "data": {
      "text/html": [
       "<div>\n",
       "<style scoped>\n",
       "    .dataframe tbody tr th:only-of-type {\n",
       "        vertical-align: middle;\n",
       "    }\n",
       "\n",
       "    .dataframe tbody tr th {\n",
       "        vertical-align: top;\n",
       "    }\n",
       "\n",
       "    .dataframe thead th {\n",
       "        text-align: right;\n",
       "    }\n",
       "</style>\n",
       "<table border=\"1\" class=\"dataframe\">\n",
       "  <thead>\n",
       "    <tr style=\"text-align: right;\">\n",
       "      <th></th>\n",
       "      <th>bResult</th>\n",
       "      <th>btPlayerRole</th>\n",
       "      <th>bjPlayerRole</th>\n",
       "      <th>bmPlayerRole</th>\n",
       "      <th>baPlayerRole</th>\n",
       "      <th>bsPlayerRole</th>\n",
       "      <th>rtPlayerRole</th>\n",
       "      <th>rjPlayerRole</th>\n",
       "      <th>rmPlayerRole</th>\n",
       "      <th>raPlayerRole</th>\n",
       "      <th>...</th>\n",
       "      <th>raPlayerChampion</th>\n",
       "      <th>rsPlayerChampion</th>\n",
       "      <th>bCoopPlayer</th>\n",
       "      <th>rCoopPlayer</th>\n",
       "      <th>vsPlayer</th>\n",
       "      <th>bCoopChampion</th>\n",
       "      <th>rCoopChampion</th>\n",
       "      <th>vsChampion</th>\n",
       "      <th>bTeamColor</th>\n",
       "      <th>rTeamColor</th>\n",
       "    </tr>\n",
       "  </thead>\n",
       "  <tbody>\n",
       "    <tr>\n",
       "      <th>0</th>\n",
       "      <td>1</td>\n",
       "      <td>0.252250</td>\n",
       "      <td>-0.113933</td>\n",
       "      <td>1.010727</td>\n",
       "      <td>0.434609</td>\n",
       "      <td>0.245249</td>\n",
       "      <td>0.160813</td>\n",
       "      <td>0.366454</td>\n",
       "      <td>0.119546</td>\n",
       "      <td>0.858685</td>\n",
       "      <td>...</td>\n",
       "      <td>0.133663</td>\n",
       "      <td>-1.850269</td>\n",
       "      <td>0.366567</td>\n",
       "      <td>0.175634</td>\n",
       "      <td>0.127328</td>\n",
       "      <td>-0.187979</td>\n",
       "      <td>1.213948</td>\n",
       "      <td>-0.206860</td>\n",
       "      <td>1.103748</td>\n",
       "      <td>0.920580</td>\n",
       "    </tr>\n",
       "    <tr>\n",
       "      <th>1</th>\n",
       "      <td>0</td>\n",
       "      <td>0.107836</td>\n",
       "      <td>-0.258477</td>\n",
       "      <td>0.248977</td>\n",
       "      <td>-0.715370</td>\n",
       "      <td>-0.487638</td>\n",
       "      <td>0.034632</td>\n",
       "      <td>0.263361</td>\n",
       "      <td>-0.826679</td>\n",
       "      <td>0.262123</td>\n",
       "      <td>...</td>\n",
       "      <td>0.179959</td>\n",
       "      <td>0.263562</td>\n",
       "      <td>-0.418938</td>\n",
       "      <td>-0.767054</td>\n",
       "      <td>-1.588838</td>\n",
       "      <td>-1.739330</td>\n",
       "      <td>0.131607</td>\n",
       "      <td>-1.303218</td>\n",
       "      <td>-0.459587</td>\n",
       "      <td>-0.379011</td>\n",
       "    </tr>\n",
       "    <tr>\n",
       "      <th>2</th>\n",
       "      <td>1</td>\n",
       "      <td>-0.363338</td>\n",
       "      <td>0.955698</td>\n",
       "      <td>0.776230</td>\n",
       "      <td>-0.188098</td>\n",
       "      <td>1.248147</td>\n",
       "      <td>1.081633</td>\n",
       "      <td>0.469547</td>\n",
       "      <td>0.290217</td>\n",
       "      <td>0.775167</td>\n",
       "      <td>...</td>\n",
       "      <td>0.545983</td>\n",
       "      <td>-1.850269</td>\n",
       "      <td>-0.093366</td>\n",
       "      <td>-0.831687</td>\n",
       "      <td>1.020567</td>\n",
       "      <td>-0.054209</td>\n",
       "      <td>-0.383016</td>\n",
       "      <td>1.589459</td>\n",
       "      <td>0.383076</td>\n",
       "      <td>1.106054</td>\n",
       "    </tr>\n",
       "  </tbody>\n",
       "</table>\n",
       "<p>3 rows × 29 columns</p>\n",
       "</div>"
      ],
      "text/plain": [
       "   bResult  btPlayerRole  bjPlayerRole  bmPlayerRole  baPlayerRole  \\\n",
       "0        1      0.252250     -0.113933      1.010727      0.434609   \n",
       "1        0      0.107836     -0.258477      0.248977     -0.715370   \n",
       "2        1     -0.363338      0.955698      0.776230     -0.188098   \n",
       "\n",
       "   bsPlayerRole  rtPlayerRole  rjPlayerRole  rmPlayerRole  raPlayerRole  ...  \\\n",
       "0      0.245249      0.160813      0.366454      0.119546      0.858685  ...   \n",
       "1     -0.487638      0.034632      0.263361     -0.826679      0.262123  ...   \n",
       "2      1.248147      1.081633      0.469547      0.290217      0.775167  ...   \n",
       "\n",
       "   raPlayerChampion  rsPlayerChampion  bCoopPlayer  rCoopPlayer  vsPlayer  \\\n",
       "0          0.133663         -1.850269     0.366567     0.175634  0.127328   \n",
       "1          0.179959          0.263562    -0.418938    -0.767054 -1.588838   \n",
       "2          0.545983         -1.850269    -0.093366    -0.831687  1.020567   \n",
       "\n",
       "   bCoopChampion  rCoopChampion  vsChampion  bTeamColor  rTeamColor  \n",
       "0      -0.187979       1.213948   -0.206860    1.103748    0.920580  \n",
       "1      -1.739330       0.131607   -1.303218   -0.459587   -0.379011  \n",
       "2      -0.054209      -0.383016    1.589459    0.383076    1.106054  \n",
       "\n",
       "[3 rows x 29 columns]"
      ]
     },
     "execution_count": 135,
     "metadata": {},
     "output_type": "execute_result"
    }
   ],
   "source": [
    "train_df.head(3)"
   ]
  },
  {
   "cell_type": "code",
   "execution_count": 139,
   "id": "09900a2f-831d-40c2-aea6-f85893ba6086",
   "metadata": {},
   "outputs": [
    {
     "data": {
      "text/plain": [
       "Index(['bResult', 'btPlayerRole', 'bjPlayerRole', 'bmPlayerRole',\n",
       "       'baPlayerRole', 'bsPlayerRole', 'rtPlayerRole', 'rjPlayerRole',\n",
       "       'rmPlayerRole', 'raPlayerRole', 'rsPlayerRole', 'btPlayerChampion',\n",
       "       'bjPlayerChampion', 'bmPlayerChampion', 'baPlayerChampion',\n",
       "       'bsPlayerChampion', 'rtPlayerChampion', 'rjPlayerChampion',\n",
       "       'rmPlayerChampion', 'raPlayerChampion', 'rsPlayerChampion',\n",
       "       'bCoopPlayer', 'rCoopPlayer', 'vsPlayer', 'bCoopChampion',\n",
       "       'rCoopChampion', 'vsChampion', 'bTeamColor', 'rTeamColor'],\n",
       "      dtype='object')"
      ]
     },
     "execution_count": 139,
     "metadata": {},
     "output_type": "execute_result"
    }
   ],
   "source": [
    "train_df.columns"
   ]
  },
  {
   "cell_type": "code",
   "execution_count": 71,
   "id": "fda2181c-0ed0-4f53-b8bc-ba17ba1c9ed3",
   "metadata": {},
   "outputs": [],
   "source": [
    "# drop_cols = list(train_df.filter(regex='ChampionRole$').columns)\n",
    "drop_cols = ['Unnamed: 0']"
   ]
  },
  {
   "cell_type": "code",
   "execution_count": 73,
   "id": "02fd7e4b-e418-40f6-a7dd-3692fb5e2e54",
   "metadata": {},
   "outputs": [
    {
     "data": {
      "text/plain": [
       "Index(['bResult', 'btPlayerRole', 'bjPlayerRole', 'bmPlayerRole',\n",
       "       'baPlayerRole', 'bsPlayerRole', 'rtPlayerRole', 'rjPlayerRole',\n",
       "       'rmPlayerRole', 'raPlayerRole', 'rsPlayerRole', 'btPlayerChampion',\n",
       "       'bjPlayerChampion', 'bmPlayerChampion', 'baPlayerChampion',\n",
       "       'bsPlayerChampion', 'rtPlayerChampion', 'rjPlayerChampion',\n",
       "       'rmPlayerChampion', 'raPlayerChampion', 'rsPlayerChampion',\n",
       "       'bCoopPlayer', 'rCoopPlayer', 'bCoopChampion', 'rCoopChampion',\n",
       "       'vsPlayer', 'vsChampion', 'bTeamColor', 'rTeamColor'],\n",
       "      dtype='object')"
      ]
     },
     "execution_count": 73,
     "metadata": {},
     "output_type": "execute_result"
    }
   ],
   "source": [
    "train_df = train_df.drop(drop_cols, axis=1)\n",
    "train_df.columns"
   ]
  },
  {
   "cell_type": "code",
   "execution_count": 141,
   "id": "cee7e815-ec87-4ac6-a688-5882cac62601",
   "metadata": {},
   "outputs": [
    {
     "data": {
      "text/plain": [
       "29"
      ]
     },
     "execution_count": 141,
     "metadata": {},
     "output_type": "execute_result"
    }
   ],
   "source": [
    "len(list(train_df.columns))"
   ]
  },
  {
   "cell_type": "code",
   "execution_count": 143,
   "id": "e73e6d74-5a12-4649-b580-33eea11ff9fc",
   "metadata": {},
   "outputs": [
    {
     "ename": "KeyError",
     "evalue": "\"['Unnamed: 0'] not found in axis\"",
     "output_type": "error",
     "traceback": [
      "\u001b[0;31m---------------------------------------------------------------------------\u001b[0m",
      "\u001b[0;31mKeyError\u001b[0m                                  Traceback (most recent call last)",
      "\u001b[0;32m/var/folders/02/bv93bwlx7jlcd9tn42ss9zrr0000gn/T/ipykernel_75194/3366452704.py\u001b[0m in \u001b[0;36m<module>\u001b[0;34m\u001b[0m\n\u001b[0;32m----> 1\u001b[0;31m \u001b[0mtest_df\u001b[0m \u001b[0;34m=\u001b[0m \u001b[0mtest_df\u001b[0m\u001b[0;34m.\u001b[0m\u001b[0mdrop\u001b[0m\u001b[0;34m(\u001b[0m\u001b[0mdrop_cols\u001b[0m\u001b[0;34m,\u001b[0m \u001b[0maxis\u001b[0m\u001b[0;34m=\u001b[0m\u001b[0;36m1\u001b[0m\u001b[0;34m)\u001b[0m\u001b[0;34m\u001b[0m\u001b[0;34m\u001b[0m\u001b[0m\n\u001b[0m\u001b[1;32m      2\u001b[0m \u001b[0mlen\u001b[0m\u001b[0;34m(\u001b[0m\u001b[0mlist\u001b[0m\u001b[0;34m(\u001b[0m\u001b[0mtest_df\u001b[0m\u001b[0;34m.\u001b[0m\u001b[0mcolumns\u001b[0m\u001b[0;34m)\u001b[0m\u001b[0;34m)\u001b[0m\u001b[0;34m\u001b[0m\u001b[0;34m\u001b[0m\u001b[0m\n",
      "\u001b[0;32m/opt/anaconda3/lib/python3.9/site-packages/pandas/core/frame.py\u001b[0m in \u001b[0;36mdrop\u001b[0;34m(self, labels, axis, index, columns, level, inplace, errors)\u001b[0m\n\u001b[1;32m   5579\u001b[0m                 \u001b[0mweight\u001b[0m  \u001b[0;36m1.0\u001b[0m     \u001b[0;36m0.8\u001b[0m\u001b[0;34m\u001b[0m\u001b[0;34m\u001b[0m\u001b[0m\n\u001b[1;32m   5580\u001b[0m         \"\"\"\n\u001b[0;32m-> 5581\u001b[0;31m         return super().drop(\n\u001b[0m\u001b[1;32m   5582\u001b[0m             \u001b[0mlabels\u001b[0m\u001b[0;34m=\u001b[0m\u001b[0mlabels\u001b[0m\u001b[0;34m,\u001b[0m\u001b[0;34m\u001b[0m\u001b[0;34m\u001b[0m\u001b[0m\n\u001b[1;32m   5583\u001b[0m             \u001b[0maxis\u001b[0m\u001b[0;34m=\u001b[0m\u001b[0maxis\u001b[0m\u001b[0;34m,\u001b[0m\u001b[0;34m\u001b[0m\u001b[0;34m\u001b[0m\u001b[0m\n",
      "\u001b[0;32m/opt/anaconda3/lib/python3.9/site-packages/pandas/core/generic.py\u001b[0m in \u001b[0;36mdrop\u001b[0;34m(self, labels, axis, index, columns, level, inplace, errors)\u001b[0m\n\u001b[1;32m   4786\u001b[0m         \u001b[0;32mfor\u001b[0m \u001b[0maxis\u001b[0m\u001b[0;34m,\u001b[0m \u001b[0mlabels\u001b[0m \u001b[0;32min\u001b[0m \u001b[0maxes\u001b[0m\u001b[0;34m.\u001b[0m\u001b[0mitems\u001b[0m\u001b[0;34m(\u001b[0m\u001b[0;34m)\u001b[0m\u001b[0;34m:\u001b[0m\u001b[0;34m\u001b[0m\u001b[0;34m\u001b[0m\u001b[0m\n\u001b[1;32m   4787\u001b[0m             \u001b[0;32mif\u001b[0m \u001b[0mlabels\u001b[0m \u001b[0;32mis\u001b[0m \u001b[0;32mnot\u001b[0m \u001b[0;32mNone\u001b[0m\u001b[0;34m:\u001b[0m\u001b[0;34m\u001b[0m\u001b[0;34m\u001b[0m\u001b[0m\n\u001b[0;32m-> 4788\u001b[0;31m                 \u001b[0mobj\u001b[0m \u001b[0;34m=\u001b[0m \u001b[0mobj\u001b[0m\u001b[0;34m.\u001b[0m\u001b[0m_drop_axis\u001b[0m\u001b[0;34m(\u001b[0m\u001b[0mlabels\u001b[0m\u001b[0;34m,\u001b[0m \u001b[0maxis\u001b[0m\u001b[0;34m,\u001b[0m \u001b[0mlevel\u001b[0m\u001b[0;34m=\u001b[0m\u001b[0mlevel\u001b[0m\u001b[0;34m,\u001b[0m \u001b[0merrors\u001b[0m\u001b[0;34m=\u001b[0m\u001b[0merrors\u001b[0m\u001b[0;34m)\u001b[0m\u001b[0;34m\u001b[0m\u001b[0;34m\u001b[0m\u001b[0m\n\u001b[0m\u001b[1;32m   4789\u001b[0m \u001b[0;34m\u001b[0m\u001b[0m\n\u001b[1;32m   4790\u001b[0m         \u001b[0;32mif\u001b[0m \u001b[0minplace\u001b[0m\u001b[0;34m:\u001b[0m\u001b[0;34m\u001b[0m\u001b[0;34m\u001b[0m\u001b[0m\n",
      "\u001b[0;32m/opt/anaconda3/lib/python3.9/site-packages/pandas/core/generic.py\u001b[0m in \u001b[0;36m_drop_axis\u001b[0;34m(self, labels, axis, level, errors, only_slice)\u001b[0m\n\u001b[1;32m   4828\u001b[0m                 \u001b[0mnew_axis\u001b[0m \u001b[0;34m=\u001b[0m \u001b[0maxis\u001b[0m\u001b[0;34m.\u001b[0m\u001b[0mdrop\u001b[0m\u001b[0;34m(\u001b[0m\u001b[0mlabels\u001b[0m\u001b[0;34m,\u001b[0m \u001b[0mlevel\u001b[0m\u001b[0;34m=\u001b[0m\u001b[0mlevel\u001b[0m\u001b[0;34m,\u001b[0m \u001b[0merrors\u001b[0m\u001b[0;34m=\u001b[0m\u001b[0merrors\u001b[0m\u001b[0;34m)\u001b[0m\u001b[0;34m\u001b[0m\u001b[0;34m\u001b[0m\u001b[0m\n\u001b[1;32m   4829\u001b[0m             \u001b[0;32melse\u001b[0m\u001b[0;34m:\u001b[0m\u001b[0;34m\u001b[0m\u001b[0;34m\u001b[0m\u001b[0m\n\u001b[0;32m-> 4830\u001b[0;31m                 \u001b[0mnew_axis\u001b[0m \u001b[0;34m=\u001b[0m \u001b[0maxis\u001b[0m\u001b[0;34m.\u001b[0m\u001b[0mdrop\u001b[0m\u001b[0;34m(\u001b[0m\u001b[0mlabels\u001b[0m\u001b[0;34m,\u001b[0m \u001b[0merrors\u001b[0m\u001b[0;34m=\u001b[0m\u001b[0merrors\u001b[0m\u001b[0;34m)\u001b[0m\u001b[0;34m\u001b[0m\u001b[0;34m\u001b[0m\u001b[0m\n\u001b[0m\u001b[1;32m   4831\u001b[0m             \u001b[0mindexer\u001b[0m \u001b[0;34m=\u001b[0m \u001b[0maxis\u001b[0m\u001b[0;34m.\u001b[0m\u001b[0mget_indexer\u001b[0m\u001b[0;34m(\u001b[0m\u001b[0mnew_axis\u001b[0m\u001b[0;34m)\u001b[0m\u001b[0;34m\u001b[0m\u001b[0;34m\u001b[0m\u001b[0m\n\u001b[1;32m   4832\u001b[0m \u001b[0;34m\u001b[0m\u001b[0m\n",
      "\u001b[0;32m/opt/anaconda3/lib/python3.9/site-packages/pandas/core/indexes/base.py\u001b[0m in \u001b[0;36mdrop\u001b[0;34m(self, labels, errors)\u001b[0m\n\u001b[1;32m   7068\u001b[0m         \u001b[0;32mif\u001b[0m \u001b[0mmask\u001b[0m\u001b[0;34m.\u001b[0m\u001b[0many\u001b[0m\u001b[0;34m(\u001b[0m\u001b[0;34m)\u001b[0m\u001b[0;34m:\u001b[0m\u001b[0;34m\u001b[0m\u001b[0;34m\u001b[0m\u001b[0m\n\u001b[1;32m   7069\u001b[0m             \u001b[0;32mif\u001b[0m \u001b[0merrors\u001b[0m \u001b[0;34m!=\u001b[0m \u001b[0;34m\"ignore\"\u001b[0m\u001b[0;34m:\u001b[0m\u001b[0;34m\u001b[0m\u001b[0;34m\u001b[0m\u001b[0m\n\u001b[0;32m-> 7070\u001b[0;31m                 \u001b[0;32mraise\u001b[0m \u001b[0mKeyError\u001b[0m\u001b[0;34m(\u001b[0m\u001b[0;34mf\"{labels[mask].tolist()} not found in axis\"\u001b[0m\u001b[0;34m)\u001b[0m\u001b[0;34m\u001b[0m\u001b[0;34m\u001b[0m\u001b[0m\n\u001b[0m\u001b[1;32m   7071\u001b[0m             \u001b[0mindexer\u001b[0m \u001b[0;34m=\u001b[0m \u001b[0mindexer\u001b[0m\u001b[0;34m[\u001b[0m\u001b[0;34m~\u001b[0m\u001b[0mmask\u001b[0m\u001b[0;34m]\u001b[0m\u001b[0;34m\u001b[0m\u001b[0;34m\u001b[0m\u001b[0m\n\u001b[1;32m   7072\u001b[0m         \u001b[0;32mreturn\u001b[0m \u001b[0mself\u001b[0m\u001b[0;34m.\u001b[0m\u001b[0mdelete\u001b[0m\u001b[0;34m(\u001b[0m\u001b[0mindexer\u001b[0m\u001b[0;34m)\u001b[0m\u001b[0;34m\u001b[0m\u001b[0;34m\u001b[0m\u001b[0m\n",
      "\u001b[0;31mKeyError\u001b[0m: \"['Unnamed: 0'] not found in axis\""
     ]
    }
   ],
   "source": [
    "test_df = test_df.drop(drop_cols, axis=1)\n",
    "len(list(test_df.columns))"
   ]
  },
  {
   "cell_type": "code",
   "execution_count": 145,
   "id": "099a8386-84e8-445d-a884-d97f253e2ace",
   "metadata": {},
   "outputs": [],
   "source": [
    "y_train = train_df.loc[:, 'bResult']\n",
    "X_train = train_df.loc[:, train_df.columns != 'bResult']\n",
    "y_test = test_df.loc[:, 'bResult']\n",
    "X_test = test_df.loc[:, test_df.columns != 'bResult']"
   ]
  },
  {
   "cell_type": "code",
   "execution_count": 147,
   "id": "b452c077-03c4-4fe5-87bc-751cdffbacbc",
   "metadata": {},
   "outputs": [
    {
     "data": {
      "text/plain": [
       "<bound method DataFrame.count of       btPlayerRole  bjPlayerRole  bmPlayerRole  baPlayerRole  bsPlayerRole  \\\n",
       "0         0.252250     -0.113933      1.010727      0.434609      0.245249   \n",
       "1         0.107836     -0.258477      0.248977     -0.715370     -0.487638   \n",
       "2        -0.363338      0.955698      0.776230     -0.188098      1.248147   \n",
       "3         0.178569      0.045067     -0.025138     -0.175134      0.548104   \n",
       "4         2.831061      0.661353      0.758049      1.205383      0.490318   \n",
       "...            ...           ...           ...           ...           ...   \n",
       "6818      0.920830      0.753336     -1.787310     -0.131543     -0.857938   \n",
       "6819     -0.263513     -1.270290     -1.278238     -3.327397     -0.055620   \n",
       "6820     -1.650736     -0.308239     -3.314526     -3.327397     -1.760546   \n",
       "6821     -0.156803     -0.258477      1.466323     -0.953493      0.345539   \n",
       "6822     -3.358087     -3.293916     -2.805454     -2.816349     -2.061415   \n",
       "\n",
       "      rtPlayerRole  rjPlayerRole  rmPlayerRole  raPlayerRole  rsPlayerRole  \\\n",
       "0         0.160813      0.366454      0.119546      0.858685      0.036595   \n",
       "1         0.034632      0.263361     -0.826679      0.262123     -1.356785   \n",
       "2         1.081633      0.469547      0.290217      0.775167     -2.793981   \n",
       "3        -0.455182      0.649960     -0.301999      3.340383      0.035027   \n",
       "4        -0.671590     -0.664476     -0.965114     -1.277006     -0.656151   \n",
       "...            ...           ...           ...           ...           ...   \n",
       "6818      1.030290      1.316225     -0.458008      1.121173     -0.330216   \n",
       "6819     -0.141546      0.128892      1.282805     -0.113274      0.507686   \n",
       "6820      1.382574      3.356151      0.698930      1.946454      0.463664   \n",
       "6821     -2.859722     -2.829429     -1.132314     -1.137085     -0.757953   \n",
       "6822      0.747088      0.666768      0.479977     -1.084615     -0.350747   \n",
       "\n",
       "      ...  raPlayerChampion  rsPlayerChampion  bCoopPlayer  rCoopPlayer  \\\n",
       "0     ...          0.133663         -1.850269     0.366567     0.175634   \n",
       "1     ...          0.179959          0.263562    -0.418938    -0.767054   \n",
       "2     ...          0.545983         -1.850269    -0.093366    -0.831687   \n",
       "3     ...          2.043355          0.352566     0.180842     1.994147   \n",
       "4     ...         -1.949637         -1.850269     0.571416    -0.580424   \n",
       "...   ...               ...               ...          ...          ...   \n",
       "6818  ...          2.043355          0.867514    -1.225845     2.509258   \n",
       "6819  ...          0.046859          0.052179    -1.776628     0.014059   \n",
       "6820  ...          1.244757          0.052179    -3.018394     1.778606   \n",
       "6821  ...         -1.949637         -1.850269     2.703377    -2.872672   \n",
       "6822  ...          0.046859         -0.159204    -2.913898     2.719335   \n",
       "\n",
       "      vsPlayer  bCoopChampion  rCoopChampion  vsChampion  bTeamColor  \\\n",
       "0     0.127328      -0.187979       1.213948   -0.206860    1.103748   \n",
       "1    -1.588838      -1.739330       0.131607   -1.303218   -0.459587   \n",
       "2     1.020567      -0.054209      -0.383016    1.589459    0.383076   \n",
       "3    -0.891270       0.085977       0.350546    0.363845   -0.198505   \n",
       "4     1.764771       0.582467      -1.015214    0.256906    0.451749   \n",
       "...        ...            ...            ...         ...         ...   \n",
       "6818 -1.339344       0.489592       6.937561   -3.878535   -1.951803   \n",
       "6819 -1.724257      -3.298882       1.083780   -2.863525   -0.385109   \n",
       "6820 -1.531925       0.982086       1.374049    0.228457   -0.391630   \n",
       "6821  1.539452       1.771786      -1.070287    1.127976    1.415206   \n",
       "6822 -1.594528      -0.927171       1.351576   -0.893155   -3.619573   \n",
       "\n",
       "      rTeamColor  \n",
       "0       0.920580  \n",
       "1      -0.379011  \n",
       "2       1.106054  \n",
       "3      -0.502067  \n",
       "4      -0.436405  \n",
       "...          ...  \n",
       "6818    1.618914  \n",
       "6819    0.002692  \n",
       "6820    1.339554  \n",
       "6821   -3.019126  \n",
       "6822    1.265271  \n",
       "\n",
       "[6823 rows x 28 columns]>"
      ]
     },
     "execution_count": 147,
     "metadata": {},
     "output_type": "execute_result"
    }
   ],
   "source": [
    "X_train.count"
   ]
  },
  {
   "cell_type": "code",
   "execution_count": 149,
   "id": "64786997-f474-4d6d-868f-0ebb209c12aa",
   "metadata": {},
   "outputs": [],
   "source": [
    "gnb = GaussianNB()"
   ]
  },
  {
   "cell_type": "code",
   "execution_count": 151,
   "id": "d556f47d-3772-4231-a6eb-cb6a4427e4e2",
   "metadata": {},
   "outputs": [
    {
     "data": {
      "text/plain": [
       "dtype('int64')"
      ]
     },
     "execution_count": 151,
     "metadata": {},
     "output_type": "execute_result"
    }
   ],
   "source": [
    "y_train.dtypes"
   ]
  },
  {
   "cell_type": "code",
   "execution_count": 153,
   "id": "b6d2e158-f7b1-4bf5-bb31-56aab7a0a3d2",
   "metadata": {},
   "outputs": [
    {
     "data": {
      "text/plain": [
       "GaussianNB()"
      ]
     },
     "execution_count": 153,
     "metadata": {},
     "output_type": "execute_result"
    }
   ],
   "source": [
    "gnb.fit(X_train, y_train)"
   ]
  },
  {
   "cell_type": "code",
   "execution_count": 155,
   "id": "960b7c07-e870-4fec-abc8-6ca0379d8fa1",
   "metadata": {},
   "outputs": [
    {
     "data": {
      "text/plain": [
       "array([[1.00000000e+00, 7.36494662e-18],\n",
       "       [1.00000000e+00, 4.74563816e-17],\n",
       "       [9.99999999e-01, 5.15996217e-10],\n",
       "       ...,\n",
       "       [1.00000000e+00, 6.84579632e-17],\n",
       "       [1.00000000e+00, 3.61233865e-14],\n",
       "       [8.06611879e-15, 1.00000000e+00]])"
      ]
     },
     "execution_count": 155,
     "metadata": {},
     "output_type": "execute_result"
    }
   ],
   "source": [
    "# apparently the model must be fit prior to calling this\n",
    "priors = gnb.predict_proba(X_test)\n",
    "priors"
   ]
  },
  {
   "cell_type": "code",
   "execution_count": 157,
   "id": "29624708-9c2d-48f9-a31e-c6b4ab6502bd",
   "metadata": {},
   "outputs": [
    {
     "data": {
      "text/plain": [
       "0.9960474308300395"
      ]
     },
     "execution_count": 157,
     "metadata": {},
     "output_type": "execute_result"
    }
   ],
   "source": [
    "y_predict = gnb.predict(X_test)\n",
    "mean_accuracy = gnb.score(X_test, y_test)\n",
    "mean_accuracy"
   ]
  },
  {
   "cell_type": "code",
   "execution_count": 159,
   "id": "b3d14b77-bf22-45ec-b73c-030997832a95",
   "metadata": {},
   "outputs": [
    {
     "name": "stdout",
     "output_type": "stream",
     "text": [
      "0.9960474308300395\n"
     ]
    }
   ],
   "source": [
    "accuracy = accuracy_score(y_test, y_predict)\n",
    "print(accuracy)"
   ]
  },
  {
   "cell_type": "code",
   "execution_count": 161,
   "id": "82674cc7-ea64-455e-b9eb-511e4873d5a3",
   "metadata": {},
   "outputs": [
    {
     "data": {
      "text/plain": [
       "759"
      ]
     },
     "execution_count": 161,
     "metadata": {},
     "output_type": "execute_result"
    }
   ],
   "source": [
    "len(priors)"
   ]
  },
  {
   "cell_type": "code",
   "execution_count": 163,
   "id": "c451a149-4a2e-490c-bcc0-c95e6100fb1d",
   "metadata": {},
   "outputs": [],
   "source": [
    "# tenfold training\n",
    "rkf = RepeatedKFold(n_repeats=5, n_splits=10, random_state=3)"
   ]
  },
  {
   "cell_type": "code",
   "execution_count": 165,
   "id": "319efd3e-f3a6-4c37-93bf-224e07c5aee3",
   "metadata": {},
   "outputs": [],
   "source": [
    "import numpy as np"
   ]
  },
  {
   "cell_type": "code",
   "execution_count": 167,
   "id": "566b9551-ef3f-4bd3-b853-0e5e811fafe3",
   "metadata": {},
   "outputs": [],
   "source": [
    "X_array = X_train.to_numpy()\n",
    "y_array = y_train.to_numpy()"
   ]
  },
  {
   "cell_type": "code",
   "execution_count": 169,
   "id": "0e0fda83-c5c3-443e-8a42-126e98e5b139",
   "metadata": {},
   "outputs": [],
   "source": [
    "accuracies = []"
   ]
  },
  {
   "cell_type": "code",
   "execution_count": 171,
   "id": "37ce162b-7af2-4c3d-ad99-a301fb4e19bd",
   "metadata": {},
   "outputs": [],
   "source": [
    "best_probs = {'prob_blue': 0, 'prob_red': 0}"
   ]
  },
  {
   "cell_type": "code",
   "execution_count": 173,
   "id": "6c74dbed-6452-4b81-90be-39249020c50f",
   "metadata": {},
   "outputs": [],
   "source": [
    "best_accuracy = 0"
   ]
  },
  {
   "cell_type": "code",
   "execution_count": 175,
   "id": "4c1acdc8-4312-4986-ae2f-69908e778cb3",
   "metadata": {},
   "outputs": [
    {
     "name": "stdout",
     "output_type": "stream",
     "text": [
      "probability that blue wins: 0.5441368078175896\n",
      "probability that red wins: 0.45586319218241045\n",
      "accuracy: 0.8740849194729137\n",
      "probability that blue wins: 0.5438110749185667\n",
      "probability that red wins: 0.4561889250814332\n",
      "accuracy: 0.890190336749634\n",
      "probability that blue wins: 0.5384364820846905\n",
      "probability that red wins: 0.4615635179153095\n",
      "accuracy: 0.9033674963396779\n",
      "probability that blue wins: 0.542256961406937\n",
      "probability that red wins: 0.45774303859306303\n",
      "accuracy: 0.8973607038123167\n",
      "probability that blue wins: 0.5443738804754926\n",
      "probability that red wins: 0.45562611952450743\n",
      "accuracy: 0.8914956011730205\n",
      "probability that blue wins: 0.541117081908484\n",
      "probability that red wins: 0.45888291809151605\n",
      "accuracy: 0.907624633431085\n",
      "probability that blue wins: 0.5412799218368344\n",
      "probability that red wins: 0.4587200781631656\n",
      "accuracy: 0.9002932551319648\n",
      "probability that blue wins: 0.5440482006187918\n",
      "probability that red wins: 0.4559517993812083\n",
      "accuracy: 0.8973607038123167\n",
      "probability that blue wins: 0.5450252401888943\n",
      "probability that red wins: 0.4549747598111057\n",
      "accuracy: 0.9046920821114369\n",
      "probability that blue wins: 0.5412799218368344\n",
      "probability that red wins: 0.4587200781631656\n",
      "accuracy: 0.8797653958944281\n",
      "probability that blue wins: 0.5415309446254072\n",
      "probability that red wins: 0.4584690553745928\n",
      "accuracy: 0.9019033674963397\n",
      "probability that blue wins: 0.5429967426710097\n",
      "probability that red wins: 0.4570032573289902\n",
      "accuracy: 0.9077598828696926\n",
      "probability that blue wins: 0.5376221498371335\n",
      "probability that red wins: 0.4623778501628665\n",
      "accuracy: 0.8872620790629575\n",
      "probability that blue wins: 0.5427454811919883\n",
      "probability that red wins: 0.4572545188080117\n",
      "accuracy: 0.8856304985337243\n",
      "probability that blue wins: 0.5442110405471422\n",
      "probability that red wins: 0.45578895945285786\n",
      "accuracy: 0.9002932551319648\n",
      "probability that blue wins: 0.5416056016935352\n",
      "probability that red wins: 0.4583943983064647\n",
      "accuracy: 0.8826979472140762\n",
      "probability that blue wins: 0.5435596808337404\n",
      "probability that red wins: 0.45644031916625954\n",
      "accuracy: 0.8870967741935484\n",
      "probability that blue wins: 0.5427454811919883\n",
      "probability that red wins: 0.4572545188080117\n",
      "accuracy: 0.8929618768328446\n",
      "probability that blue wins: 0.5432340009770396\n",
      "probability that red wins: 0.45676599902296044\n",
      "accuracy: 0.9002932551319648\n",
      "probability that blue wins: 0.5455137599739456\n",
      "probability that red wins: 0.45448624002605437\n",
      "accuracy: 0.8929618768328446\n",
      "probability that blue wins: 0.5438110749185667\n",
      "probability that red wins: 0.4561889250814332\n",
      "accuracy: 0.8872620790629575\n",
      "probability that blue wins: 0.5457654723127036\n",
      "probability that red wins: 0.45423452768729644\n",
      "accuracy: 0.8945827232796486\n",
      "probability that blue wins: 0.5454397394136807\n",
      "probability that red wins: 0.4545602605863192\n",
      "accuracy: 0.890190336749634\n",
      "probability that blue wins: 0.5430711610486891\n",
      "probability that red wins: 0.45692883895131087\n",
      "accuracy: 0.8973607038123167\n",
      "probability that blue wins: 0.5386744829832275\n",
      "probability that red wins: 0.4613255170167725\n",
      "accuracy: 0.8900293255131965\n",
      "probability that blue wins: 0.5416056016935352\n",
      "probability that red wins: 0.4583943983064647\n",
      "accuracy: 0.8944281524926686\n",
      "probability that blue wins: 0.5409542419801335\n",
      "probability that red wins: 0.45904575801986647\n",
      "accuracy: 0.8958944281524927\n",
      "probability that blue wins: 0.5419312815502361\n",
      "probability that red wins: 0.4580687184497639\n",
      "accuracy: 0.8900293255131965\n",
      "probability that blue wins: 0.5420941214785866\n",
      "probability that red wins: 0.45790587852141346\n",
      "accuracy: 0.9017595307917888\n",
      "probability that blue wins: 0.5424198013352874\n",
      "probability that red wins: 0.4575801986647126\n",
      "accuracy: 0.9032258064516129\n",
      "probability that blue wins: 0.544299674267101\n",
      "probability that red wins: 0.45570032573289904\n",
      "accuracy: 0.9033674963396779\n",
      "probability that blue wins: 0.540228013029316\n",
      "probability that red wins: 0.45977198697068405\n",
      "accuracy: 0.8857979502196194\n",
      "probability that blue wins: 0.539413680781759\n",
      "probability that red wins: 0.46058631921824106\n",
      "accuracy: 0.8799414348462665\n",
      "probability that blue wins: 0.5388373229115779\n",
      "probability that red wins: 0.46116267708842207\n",
      "accuracy: 0.907624633431085\n",
      "probability that blue wins: 0.5432340009770396\n",
      "probability that red wins: 0.45676599902296044\n",
      "accuracy: 0.8944281524926686\n",
      "probability that blue wins: 0.546002279758997\n",
      "probability that red wins: 0.4539977202410031\n",
      "accuracy: 0.8841642228739003\n",
      "probability that blue wins: 0.5420941214785866\n",
      "probability that red wins: 0.45790587852141346\n",
      "accuracy: 0.8856304985337243\n",
      "probability that blue wins: 0.546002279758997\n",
      "probability that red wins: 0.4539977202410031\n",
      "accuracy: 0.8973607038123167\n",
      "probability that blue wins: 0.542256961406937\n",
      "probability that red wins: 0.45774303859306303\n",
      "accuracy: 0.9090909090909091\n",
      "probability that blue wins: 0.54339684090539\n",
      "probability that red wins: 0.45660315909461\n",
      "accuracy: 0.8914956011730205\n",
      "probability that blue wins: 0.5395765472312704\n",
      "probability that red wins: 0.46042345276872965\n",
      "accuracy: 0.8945827232796486\n",
      "probability that blue wins: 0.5392508143322475\n",
      "probability that red wins: 0.46074918566775247\n",
      "accuracy: 0.9136163982430454\n",
      "probability that blue wins: 0.5447882736156352\n",
      "probability that red wins: 0.4552117263843648\n",
      "accuracy: 0.9106881405563689\n",
      "probability that blue wins: 0.5430711610486891\n",
      "probability that red wins: 0.45692883895131087\n",
      "accuracy: 0.8988269794721407\n",
      "probability that blue wins: 0.5448624002605439\n",
      "probability that red wins: 0.4551375997394561\n",
      "accuracy: 0.8709677419354839\n",
      "probability that blue wins: 0.5417684416218856\n",
      "probability that red wins: 0.4582315583781143\n",
      "accuracy: 0.9017595307917888\n",
      "probability that blue wins: 0.5448624002605439\n",
      "probability that red wins: 0.4551375997394561\n",
      "accuracy: 0.8768328445747801\n",
      "probability that blue wins: 0.5414427617651848\n",
      "probability that red wins: 0.4585572382348152\n",
      "accuracy: 0.906158357771261\n",
      "probability that blue wins: 0.542256961406937\n",
      "probability that red wins: 0.45774303859306303\n",
      "accuracy: 0.8782991202346041\n",
      "probability that blue wins: 0.5438853606904412\n",
      "probability that red wins: 0.4561146393095587\n",
      "accuracy: 0.8973607038123167\n"
     ]
    }
   ],
   "source": [
    "for train_index, test_index in rkf.split(X_train):\n",
    "    # print(f'    Train: index={train_index}')\n",
    "    # print(f'    Test: index={test_index}')\n",
    "    X_fold_train, X_fold_test = X_train.iloc[train_index], X_train.iloc[test_index]\n",
    "    y_fold_train, y_fold_test = y_train.iloc[train_index], y_train.iloc[test_index]\n",
    "    prob_blue = len([x for x in list(y_fold_train) if x == 1]) / len(list(y_fold_train))\n",
    "    prob_red = len([x for x in list(y_fold_train) if x == 0]) / len(list(y_fold_train))\n",
    "    print(f'probability that blue wins: {prob_blue}')\n",
    "    print(f'probability that red wins: {prob_red}')\n",
    "    model = GaussianNB()\n",
    "    model.fit(X_fold_train, y_fold_train)\n",
    "    fold_prediction = model.predict(X_fold_test)\n",
    "    accuracy = accuracy_score(y_fold_test, fold_prediction)\n",
    "    accuracies.append(accuracy)\n",
    "    print(f'accuracy: {accuracy}')\n",
    "    if accuracy > best_accuracy:\n",
    "        best_accuracy = accuracy\n",
    "        best_probs['prob_blue'] = prob_blue\n",
    "        best_probs['prob_red'] = prob_red"
   ]
  },
  {
   "cell_type": "code",
   "execution_count": 177,
   "id": "a66283db-e537-47e8-a3d1-d8170cd9dae7",
   "metadata": {},
   "outputs": [
    {
     "data": {
      "text/plain": [
       "[0.8740849194729137,\n",
       " 0.890190336749634,\n",
       " 0.9033674963396779,\n",
       " 0.8973607038123167,\n",
       " 0.8914956011730205,\n",
       " 0.907624633431085,\n",
       " 0.9002932551319648,\n",
       " 0.8973607038123167,\n",
       " 0.9046920821114369,\n",
       " 0.8797653958944281,\n",
       " 0.9019033674963397,\n",
       " 0.9077598828696926,\n",
       " 0.8872620790629575,\n",
       " 0.8856304985337243,\n",
       " 0.9002932551319648,\n",
       " 0.8826979472140762,\n",
       " 0.8870967741935484,\n",
       " 0.8929618768328446,\n",
       " 0.9002932551319648,\n",
       " 0.8929618768328446,\n",
       " 0.8872620790629575,\n",
       " 0.8945827232796486,\n",
       " 0.890190336749634,\n",
       " 0.8973607038123167,\n",
       " 0.8900293255131965,\n",
       " 0.8944281524926686,\n",
       " 0.8958944281524927,\n",
       " 0.8900293255131965,\n",
       " 0.9017595307917888,\n",
       " 0.9032258064516129,\n",
       " 0.9033674963396779,\n",
       " 0.8857979502196194,\n",
       " 0.8799414348462665,\n",
       " 0.907624633431085,\n",
       " 0.8944281524926686,\n",
       " 0.8841642228739003,\n",
       " 0.8856304985337243,\n",
       " 0.8973607038123167,\n",
       " 0.9090909090909091,\n",
       " 0.8914956011730205,\n",
       " 0.8945827232796486,\n",
       " 0.9136163982430454,\n",
       " 0.9106881405563689,\n",
       " 0.8988269794721407,\n",
       " 0.8709677419354839,\n",
       " 0.9017595307917888,\n",
       " 0.8768328445747801,\n",
       " 0.906158357771261,\n",
       " 0.8782991202346041,\n",
       " 0.8973607038123167]"
      ]
     },
     "execution_count": 177,
     "metadata": {},
     "output_type": "execute_result"
    }
   ],
   "source": [
    "accuracies"
   ]
  },
  {
   "cell_type": "code",
   "execution_count": 179,
   "id": "095cab9e-ff57-48a4-acf0-bb35db1bd9d3",
   "metadata": {},
   "outputs": [
    {
     "data": {
      "text/plain": [
       "50"
      ]
     },
     "execution_count": 179,
     "metadata": {},
     "output_type": "execute_result"
    }
   ],
   "source": [
    "len(accuracies)"
   ]
  },
  {
   "cell_type": "code",
   "execution_count": 181,
   "id": "c52ce712-a361-4097-bbb2-ee634edc8ec6",
   "metadata": {},
   "outputs": [
    {
     "data": {
      "text/plain": [
       "0.8943570499306572"
      ]
     },
     "execution_count": 181,
     "metadata": {},
     "output_type": "execute_result"
    }
   ],
   "source": [
    "sum(accuracies) / 50"
   ]
  },
  {
   "cell_type": "code",
   "execution_count": 183,
   "id": "5645e67c-c2c4-47c6-871d-a965af2199ba",
   "metadata": {},
   "outputs": [
    {
     "data": {
      "text/plain": [
       "0.9136163982430454"
      ]
     },
     "execution_count": 183,
     "metadata": {},
     "output_type": "execute_result"
    }
   ],
   "source": [
    "best_accuracy"
   ]
  },
  {
   "cell_type": "code",
   "execution_count": 185,
   "id": "6d2f3d06-bb28-4f36-8b59-1282d7a10f1d",
   "metadata": {},
   "outputs": [
    {
     "data": {
      "text/plain": [
       "{'prob_blue': 0.5392508143322475, 'prob_red': 0.46074918566775247}"
      ]
     },
     "execution_count": 185,
     "metadata": {},
     "output_type": "execute_result"
    }
   ],
   "source": [
    "best_probs"
   ]
  },
  {
   "cell_type": "code",
   "execution_count": 187,
   "id": "41d0eb85-4a20-4e03-bc1b-6033959eaa57",
   "metadata": {},
   "outputs": [],
   "source": [
    "gnb = GaussianNB(priors=[best_probs['prob_red'], best_probs['prob_blue']])"
   ]
  },
  {
   "cell_type": "code",
   "execution_count": 189,
   "id": "15892a21-ef08-4b9d-aa92-a9b0a1503514",
   "metadata": {},
   "outputs": [
    {
     "data": {
      "text/plain": [
       "GaussianNB(priors=[0.46074918566775247, 0.5392508143322475])"
      ]
     },
     "execution_count": 189,
     "metadata": {},
     "output_type": "execute_result"
    }
   ],
   "source": [
    "gnb.fit(X_train, y_train)"
   ]
  },
  {
   "cell_type": "code",
   "execution_count": 191,
   "id": "f5b72f68-61b1-42c8-845f-6a0002268e9f",
   "metadata": {},
   "outputs": [],
   "source": [
    "tuned_prediction = gnb.predict(X_test)"
   ]
  },
  {
   "cell_type": "code",
   "execution_count": 193,
   "id": "3978111c-5d48-4f66-9535-2583359fd0f8",
   "metadata": {},
   "outputs": [
    {
     "data": {
      "text/plain": [
       "0.9960474308300395"
      ]
     },
     "execution_count": 193,
     "metadata": {},
     "output_type": "execute_result"
    }
   ],
   "source": [
    "accuracy_w_priors = accuracy_score(y_test, tuned_prediction)\n",
    "accuracy_w_priors"
   ]
  },
  {
   "cell_type": "code",
   "execution_count": null,
   "id": "735a999c-b514-4445-9802-edec2b4f79de",
   "metadata": {},
   "outputs": [],
   "source": []
  }
 ],
 "metadata": {
  "kernelspec": {
   "display_name": "Python 3 (ipykernel)",
   "language": "python",
   "name": "python3"
  },
  "language_info": {
   "codemirror_mode": {
    "name": "ipython",
    "version": 3
   },
   "file_extension": ".py",
   "mimetype": "text/x-python",
   "name": "python",
   "nbconvert_exporter": "python",
   "pygments_lexer": "ipython3",
   "version": "3.9.19"
  }
 },
 "nbformat": 4,
 "nbformat_minor": 5
}
